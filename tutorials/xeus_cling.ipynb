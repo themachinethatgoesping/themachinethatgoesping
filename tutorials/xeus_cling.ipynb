{
 "cells": [
  {
   "cell_type": "code",
   "execution_count": null,
   "id": "fd888f89-c733-470a-84a1-e6135b9b539f",
   "metadata": {},
   "outputs": [],
   "source": [
    "#pragma cling add_include_path(\"/ssd/local/include/\")\n",
    "#pragma cling add_library_path(\"/ssd/local/lib/x86_64-linux-gnu/\")\n",
    "#pragma cling load(\"themachinethatgoesping_tools.so\")\n"
   ]
  },
  {
   "cell_type": "code",
   "execution_count": null,
   "id": "92809605-7a13-450f-b1f5-72fec315b067",
   "metadata": {},
   "outputs": [],
   "source": [
    "#pragma cling add_include_path(\"/ssd/local/include/\")\n",
    "#include <themachinethatgoesping/tools/timeconv.h>"
   ]
  },
  {
   "cell_type": "code",
   "execution_count": null,
   "id": "ec4b6a1e-1a09-40ae-802e-dbcdc8b9143f",
   "metadata": {},
   "outputs": [],
   "source": [
    "using namespace themachinethatgoesping::tools;"
   ]
  },
  {
   "cell_type": "code",
   "execution_count": null,
   "id": "26261786-2ac1-4c73-9e24-6b78ca66d411",
   "metadata": {},
   "outputs": [],
   "source": [
    "double unixtime = 1;\n",
    "auto a = timeconv::unixtime_to_datestring(unixtime);"
   ]
  },
  {
   "cell_type": "code",
   "execution_count": null,
   "id": "56a40668-400d-471d-b9ce-ba0a720f0543",
   "metadata": {},
   "outputs": [],
   "source": [
    "a"
   ]
  },
  {
   "cell_type": "code",
   "execution_count": null,
   "id": "bb639734-34cc-400b-bd84-1722a07cb5d9",
   "metadata": {},
   "outputs": [],
   "source": [
    "!ls /ssd/local/include/themachinethatgoesping/tools/timeconv.h\n"
   ]
  },
  {
   "cell_type": "code",
   "execution_count": null,
   "id": "a9a0792a-0fdc-4894-8dc4-676c0f9ab41f",
   "metadata": {},
   "outputs": [],
   "source": [
    "!ls /ssd/local/include/"
   ]
  },
  {
   "cell_type": "code",
   "execution_count": null,
   "id": "64a77536-47e3-4bc7-a83a-a9c32f06e8d9",
   "metadata": {},
   "outputs": [],
   "source": []
  }
 ],
 "metadata": {
  "kernelspec": {
   "display_name": "Python 3 (ipykernel)",
   "language": "python",
   "name": "python3"
  },
  "language_info": {
   "codemirror_mode": {
    "name": "ipython",
    "version": 3
   },
   "file_extension": ".py",
   "mimetype": "text/x-python",
   "name": "python",
   "nbconvert_exporter": "python",
   "pygments_lexer": "ipython3",
   "version": "3.10.4"
  }
 },
 "nbformat": 4,
 "nbformat_minor": 5
}
