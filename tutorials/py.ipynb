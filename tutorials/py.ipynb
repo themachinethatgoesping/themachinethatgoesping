{
 "cells": [
  {
   "cell_type": "code",
   "execution_count": null,
   "id": "2a115960-3f41-4bab-8dd0-f5b8d0038e34",
   "metadata": {},
   "outputs": [],
   "source": [
    "from themachinethatgoesping.toolsort timeconv as tc\n",
    "import themachinethatgoesping as ping"
   ]
  },
  {
   "cell_type": "code",
   "execution_count": null,
   "id": "9626fb03-1dff-4331-a1aa-9cf49a72702c",
   "metadata": {},
   "outputs": [],
   "source": [
    "tc"
   ]
  },
  {
   "cell_type": "code",
   "execution_count": null,
   "id": "6bfa3c64-d04b-4a25-848a-a6d41483db0b",
   "metadata": {},
   "outputs": [],
   "source": [
    "tc.datetime_to_datestring("
   ]
  },
  {
   "cell_type": "code",
   "execution_count": null,
   "id": "daada921-e9b1-4ad6-a1af-bf94dd22d7b7",
   "metadata": {},
   "outputs": [],
   "source": [
    "tc.unixtime_to_datestring("
   ]
  },
  {
   "cell_type": "code",
   "execution_count": null,
   "id": "80089faa-52e5-4258-aa3c-eeb3d4bd2b21",
   "metadata": {},
   "outputs": [],
   "source": []
  }
 ],
 "metadata": {
  "kernelspec": {
   "display_name": "Python 3 (ipykernel)",
   "language": "python",
   "name": "python3"
  },
  "language_info": {
   "codemirror_mode": {
    "name": "ipython",
    "version": 3
   },
   "file_extension": ".py",
   "mimetype": "text/x-python",
   "name": "python",
   "nbconvert_exporter": "python",
   "pygments_lexer": "ipython3",
   "version": "3.10.4"
  }
 },
 "nbformat": 4,
 "nbformat_minor": 5
}
