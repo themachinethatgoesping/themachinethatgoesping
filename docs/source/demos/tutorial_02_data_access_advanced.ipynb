{
 "cells": [
  {
   "cell_type": "markdown",
   "metadata": {},
   "source": [
    "# Tutorial 2: Data access advanced concepts\n",
    "### `themachinethatgoesping` tutorial series\n",
    "\n",
    "`themachinethatgoesping` concepts covered:\n",
    "- Advanced use of find_files()\n",
    "- Advanced use of File Handler\n",
    "- Advanced access of Pings"
   ]
  },
  {
   "cell_type": "code",
   "execution_count": 1,
   "metadata": {
    "execution": {
     "iopub.execute_input": "2024-11-06T12:07:00.694816Z",
     "iopub.status.busy": "2024-11-06T12:07:00.694664Z",
     "iopub.status.idle": "2024-11-06T12:07:01.206257Z",
     "shell.execute_reply": "2024-11-06T12:07:01.205933Z",
     "shell.execute_reply.started": "2024-11-06T12:07:00.694805Z"
    }
   },
   "outputs": [],
   "source": [
    "%matplotlib widget\n",
    "\n",
    "import numpy as np\n",
    "import themachinethatgoesping as pingmachine\n",
    "from matplotlib import pyplot as plt\n",
    "from tqdm.auto import tqdm"
   ]
  },
  {
   "cell_type": "markdown",
   "metadata": {},
   "source": [
    "### 1. Advanced use of find_files()"
   ]
  },
  {
   "cell_type": "code",
   "execution_count": 2,
   "metadata": {
    "execution": {
     "iopub.execute_input": "2024-11-06T12:07:01.206864Z",
     "iopub.status.busy": "2024-11-06T12:07:01.206609Z",
     "iopub.status.idle": "2024-11-06T12:07:01.215071Z",
     "shell.execute_reply": "2024-11-06T12:07:01.214735Z",
     "shell.execute_reply.started": "2024-11-06T12:07:01.206828Z"
    }
   },
   "outputs": [
    {
     "name": "stdout",
     "output_type": "stream",
     "text": [
      "Found 18 files\n",
      "18\n"
     ]
    }
   ],
   "source": [
    "# find_files() searches the input folder recursively (aka, including subfolders)\n",
    "folder = '../unittest_data'\n",
    "files = pingmachine.echosounders.index_functions.find_files(folder, [\".all\",\"wcd\"])\n",
    "print(len(files))"
   ]
  },
  {
   "cell_type": "code",
   "execution_count": 3,
   "metadata": {
    "execution": {
     "iopub.execute_input": "2024-11-06T12:07:01.215769Z",
     "iopub.status.busy": "2024-11-06T12:07:01.215496Z",
     "iopub.status.idle": "2024-11-06T12:07:01.221625Z",
     "shell.execute_reply": "2024-11-06T12:07:01.221311Z",
     "shell.execute_reply.started": "2024-11-06T12:07:01.215752Z"
    }
   },
   "outputs": [
    {
     "name": "stdout",
     "output_type": "stream",
     "text": [
      "Found 6 files\n",
      "6\n"
     ]
    }
   ],
   "source": [
    "# find_files() can use a list of folders as input\n",
    "folders = []\n",
    "folders.append('../unittest_data/kongsberg/simon/')\n",
    "folders.append('../unittest_data/kongsberg/turbeams/')\n",
    "files = pingmachine.echosounders.index_functions.find_files(folders, [\".all\",\"wcd\"])\n",
    "print(len(files))"
   ]
  },
  {
   "cell_type": "code",
   "execution_count": 4,
   "metadata": {
    "execution": {
     "iopub.execute_input": "2024-11-06T12:07:01.222159Z",
     "iopub.status.busy": "2024-11-06T12:07:01.221992Z",
     "iopub.status.idle": "2024-11-06T12:07:01.223970Z",
     "shell.execute_reply": "2024-11-06T12:07:01.223624Z",
     "shell.execute_reply.started": "2024-11-06T12:07:01.222146Z"
    }
   },
   "outputs": [],
   "source": [
    "# pairs of files (e.g. .all and .wcd) don't have to be in the same folders. \n",
    "# Remember they are only paired later, by a File Handler"
   ]
  },
  {
   "cell_type": "markdown",
   "metadata": {},
   "source": [
    "### 2. Advanced use of File Handler"
   ]
  },
  {
   "cell_type": "code",
   "execution_count": 5,
   "metadata": {
    "execution": {
     "iopub.execute_input": "2024-11-06T12:07:01.224452Z",
     "iopub.status.busy": "2024-11-06T12:07:01.224294Z",
     "iopub.status.idle": "2024-11-06T12:07:01.249331Z",
     "shell.execute_reply": "2024-11-06T12:07:01.249005Z",
     "shell.execute_reply.started": "2024-11-06T12:07:01.224442Z"
    }
   },
   "outputs": [
    {
     "name": "stdout",
     "output_type": "stream",
     "text": [
      "Found 18 files\n",
      "indexing files ⠐ 100% [00m:00s<00m:00s] [..4033532462129271.wcd (1/18)]                               \n",
      "indexing files ⠠ 100% [00m:00s<00m:00s] [..0211369500593285.wcd (18/18)]                                \n",
      "indexing files ⢀ 100% [00m:00s<00m:00s] [Found: 1484 datagrams in 18 files (26MB)]                                          \n",
      "Initializing ping interface ⢀ 90% [00m:00s<00m:00s] [Done]                                              \n"
     ]
    },
    {
     "name": "stderr",
     "output_type": "stream",
     "text": [
      "WARNING: get_depth_sensor_offsets: Only DSH (Depth (pressure) sensor heave) == NI is supported yet, but DSH is IN\n",
      "WARNING: get_depth_sensor_offsets: Only DSH (Depth (pressure) sensor heave) == NI is supported yet, but DSH is IN\n"
     ]
    }
   ],
   "source": [
    "# Create a File Handler to access the raw data files\n",
    "# TO DO - modify to talk about caching\n",
    "folder = '../unittest_data'\n",
    "files = pingmachine.echosounders.index_functions.find_files(folder, [\".all\",\"wcd\"])\n",
    "fileHandler = pingmachine.echosounders.kongsbergall.KongsbergAllFileHandler(files)"
   ]
  },
  {
   "cell_type": "markdown",
   "metadata": {},
   "source": [
    "### 3. Advanced access of Pings"
   ]
  },
  {
   "cell_type": "code",
   "execution_count": 6,
   "metadata": {
    "execution": {
     "iopub.execute_input": "2024-11-06T12:07:01.250334Z",
     "iopub.status.busy": "2024-11-06T12:07:01.250101Z",
     "iopub.status.idle": "2024-11-06T12:07:01.252005Z",
     "shell.execute_reply": "2024-11-06T12:07:01.251756Z",
     "shell.execute_reply.started": "2024-11-06T12:07:01.250324Z"
    }
   },
   "outputs": [],
   "source": [
    "# pingcontainer are mostly for fast filtering of pings (eg on basis of sonar head, or location)"
   ]
  },
  {
   "cell_type": "code",
   "execution_count": 7,
   "metadata": {
    "execution": {
     "iopub.execute_input": "2024-11-06T12:07:01.252489Z",
     "iopub.status.busy": "2024-11-06T12:07:01.252324Z",
     "iopub.status.idle": "2024-11-06T12:07:01.259010Z",
     "shell.execute_reply": "2024-11-06T12:07:01.258781Z",
     "shell.execute_reply.started": "2024-11-06T12:07:01.252480Z"
    }
   },
   "outputs": [
    {
     "data": {
      "text/plain": [
       "themachinethatgoesping.echosounders_cppy.kongsbergall.filetypes.KongsbergAllPing"
      ]
     },
     "execution_count": 7,
     "metadata": {},
     "output_type": "execute_result"
    }
   ],
   "source": [
    "# Access an individual ping in a Ping Container by indexing\n",
    "pingContainer = fileHandler.get_pings()\n",
    "ping42 = pingContainer[42]\n",
    "type(ping42)"
   ]
  },
  {
   "cell_type": "code",
   "execution_count": 8,
   "metadata": {
    "execution": {
     "iopub.execute_input": "2024-11-06T12:07:01.259504Z",
     "iopub.status.busy": "2024-11-06T12:07:01.259301Z",
     "iopub.status.idle": "2024-11-06T12:07:01.264292Z",
     "shell.execute_reply": "2024-11-06T12:07:01.264064Z",
     "shell.execute_reply.started": "2024-11-06T12:07:01.259494Z"
    }
   },
   "outputs": [
    {
     "data": {
      "text/plain": [
       "themachinethatgoesping.echosounders_cppy.kongsbergall.filedatacontainers.KongsbergAllPingContainer"
      ]
     },
     "execution_count": 8,
     "metadata": {},
     "output_type": "execute_result"
    }
   ],
   "source": [
    "#  This approach only works for a single ping. If you index a Ping Container for multiple pings, you will get a (smaller) Ping Container object\n",
    "pings0To42 = pingContainer[0:42]\n",
    "type(pings0To42)"
   ]
  },
  {
   "cell_type": "code",
   "execution_count": 9,
   "metadata": {
    "execution": {
     "iopub.execute_input": "2024-11-06T12:07:01.264737Z",
     "iopub.status.busy": "2024-11-06T12:07:01.264556Z",
     "iopub.status.idle": "2024-11-06T12:07:01.271614Z",
     "shell.execute_reply": "2024-11-06T12:07:01.271225Z",
     "shell.execute_reply.started": "2024-11-06T12:07:01.264727Z"
    }
   },
   "outputs": [
    {
     "name": "stdout",
     "output_type": "stream",
     "text": [
      "pings0To42 is now a <class 'list'> where each element is a <class 'themachinethatgoesping.echosounders_cppy.kongsbergall.filetypes.KongsbergAllPing'>\n"
     ]
    }
   ],
   "source": [
    "# If you want a list of Ping objects, you need to loop over each element of the Ping Container\n",
    "pings0To42 = []\n",
    "for i in range(42):\n",
    "    pings0To42.append(pingContainer[i])\n",
    "print(f\"pings0To42 is now a {type(pings0To42)} where each element is a {type(pings0To42[0])}\")"
   ]
  },
  {
   "cell_type": "code",
   "execution_count": 10,
   "metadata": {
    "execution": {
     "iopub.execute_input": "2024-11-06T12:07:01.272472Z",
     "iopub.status.busy": "2024-11-06T12:07:01.272223Z",
     "iopub.status.idle": "2024-11-06T12:07:01.281270Z",
     "shell.execute_reply": "2024-11-06T12:07:01.280912Z",
     "shell.execute_reply.started": "2024-11-06T12:07:01.272454Z"
    }
   },
   "outputs": [
    {
     "name": "stdout",
     "output_type": "stream",
     "text": [
      "pingsWithWC is a <class 'list'> where each element is a <class 'themachinethatgoesping.echosounders_cppy.kongsbergall.filetypes.KongsbergAllPing'>\n"
     ]
    }
   ],
   "source": [
    "# But you can also directly create lists of pings selected from a Ping Container by filtering for a specific critiera, for example pings containing watercolumn data\n",
    "pingsWithWC = pingmachine.pingprocessing.filter_pings.by_features(pingContainer,['watercolumn.amplitudes'])\n",
    "print(f\"pingsWithWC is a {type(pingsWithWC)} where each element is a {type(pingsWithWC[0])}\")"
   ]
  },
  {
   "cell_type": "code",
   "execution_count": null,
   "metadata": {},
   "outputs": [],
   "source": []
  }
 ],
 "metadata": {
  "kernelspec": {
   "display_name": "Python 3 (ipykernel)",
   "language": "python",
   "name": "python3"
  },
  "language_info": {
   "codemirror_mode": {
    "name": "ipython",
    "version": 3
   },
   "file_extension": ".py",
   "mimetype": "text/x-python",
   "name": "python",
   "nbconvert_exporter": "python",
   "pygments_lexer": "ipython3",
   "version": "3.12.7"
  },
  "widgets": {
   "application/vnd.jupyter.widget-state+json": {
    "state": {
     "0a0ecb9680524a41abddc413469f36d4": {
      "model_module": "@jupyter-widgets/base",
      "model_module_version": "1.2.0",
      "model_name": "LayoutModel",
      "state": {}
     },
     "0bf105bd5d9f47debd4dde98ece70a62": {
      "model_module": "@jupyter-widgets/base",
      "model_module_version": "1.2.0",
      "model_name": "LayoutModel",
      "state": {}
     },
     "1500f228f618463d891af0c4e6ffc4a5": {
      "model_module": "@jupyter-widgets/base",
      "model_module_version": "1.2.0",
      "model_name": "LayoutModel",
      "state": {}
     },
     "1a811277d73b4b44b522dad597f82da8": {
      "model_module": "@jupyter-widgets/controls",
      "model_module_version": "1.5.0",
      "model_name": "DescriptionStyleModel",
      "state": {
       "description_width": ""
      }
     },
     "2af4e5a748fc49ed811681ea80a6ba93": {
      "model_module": "@jupyter-widgets/controls",
      "model_module_version": "1.5.0",
      "model_name": "HTMLModel",
      "state": {
       "layout": "IPY_MODEL_3406739eb02d486d9277d92f6b7be471",
       "style": "IPY_MODEL_cc6ec91deedb4534bc28b07ed972f5e4",
       "value": "removing duplicates: 100%"
      }
     },
     "331db72704844e23851b5f03204c3a3e": {
      "model_module": "@jupyter-widgets/controls",
      "model_module_version": "1.5.0",
      "model_name": "ProgressStyleModel",
      "state": {
       "description_width": ""
      }
     },
     "3406739eb02d486d9277d92f6b7be471": {
      "model_module": "@jupyter-widgets/base",
      "model_module_version": "1.2.0",
      "model_name": "LayoutModel",
      "state": {}
     },
     "374fa24de6ae4bdebd3ddb5f6255dd6f": {
      "model_module": "@jupyter-widgets/controls",
      "model_module_version": "1.5.0",
      "model_name": "HBoxModel",
      "state": {
       "children": [
        "IPY_MODEL_96253b7c73e94a24a3d7259103531b22",
        "IPY_MODEL_ae84d77de99f4ec2a5c61834ae1d5a6e",
        "IPY_MODEL_5537085ec7e04a76a9ed92d8b9621c9e"
       ],
       "layout": "IPY_MODEL_0bf105bd5d9f47debd4dde98ece70a62"
      }
     },
     "38d38e1de97c4a95bf1964887ac294f9": {
      "model_module": "@jupyter-widgets/base",
      "model_module_version": "1.2.0",
      "model_name": "LayoutModel",
      "state": {}
     },
     "42d9d0fec82b41209d23b080696da4ad": {
      "model_module": "@jupyter-widgets/base",
      "model_module_version": "1.2.0",
      "model_name": "LayoutModel",
      "state": {}
     },
     "5537085ec7e04a76a9ed92d8b9621c9e": {
      "model_module": "@jupyter-widgets/controls",
      "model_module_version": "1.5.0",
      "model_name": "HTMLModel",
      "state": {
       "layout": "IPY_MODEL_38d38e1de97c4a95bf1964887ac294f9",
       "style": "IPY_MODEL_f9165da33faf47009b78400a020c9ee3",
       "value": " 18/18 [00:00&lt;00:00, 8183.12it/s]"
      }
     },
     "5b0119a0932047e9a1a7b91a5368b756": {
      "model_module": "@jupyter-widgets/base",
      "model_module_version": "1.2.0",
      "model_name": "LayoutModel",
      "state": {}
     },
     "6c6b11df2a864ae0a5f3a42ba251149c": {
      "model_module": "@jupyter-widgets/controls",
      "model_module_version": "1.5.0",
      "model_name": "DescriptionStyleModel",
      "state": {
       "description_width": ""
      }
     },
     "7837b7b608ec4b0f8611dac2bffa50ce": {
      "model_module": "@jupyter-widgets/controls",
      "model_module_version": "1.5.0",
      "model_name": "HTMLModel",
      "state": {
       "layout": "IPY_MODEL_c571ce48765546408aa5b0a0e8ca5c73",
       "style": "IPY_MODEL_1a811277d73b4b44b522dad597f82da8",
       "value": " 18/18 [00:00&lt;00:00, 7871.70it/s]"
      }
     },
     "8029a28713c24b16981e28e7d2c1158c": {
      "model_module": "@jupyter-widgets/controls",
      "model_module_version": "1.5.0",
      "model_name": "HTMLModel",
      "state": {
       "layout": "IPY_MODEL_c158717166e94e17beb700f25f44081e",
       "style": "IPY_MODEL_b5e7d06e87c94dd69fa94fa3cb5d192e",
       "value": "removing duplicates: 100%"
      }
     },
     "85b29a0830a84f20b7a461739641a3e7": {
      "model_module": "@jupyter-widgets/controls",
      "model_module_version": "1.5.0",
      "model_name": "ProgressStyleModel",
      "state": {
       "description_width": ""
      }
     },
     "86a22612e7024746a2939065aa5bf175": {
      "model_module": "@jupyter-widgets/base",
      "model_module_version": "1.2.0",
      "model_name": "LayoutModel",
      "state": {}
     },
     "8ea632946c4049939b8adce7341e3e3a": {
      "model_module": "@jupyter-widgets/controls",
      "model_module_version": "1.5.0",
      "model_name": "FloatProgressModel",
      "state": {
       "bar_style": "success",
       "layout": "IPY_MODEL_0a0ecb9680524a41abddc413469f36d4",
       "max": 18,
       "style": "IPY_MODEL_85b29a0830a84f20b7a461739641a3e7",
       "value": 18
      }
     },
     "96253b7c73e94a24a3d7259103531b22": {
      "model_module": "@jupyter-widgets/controls",
      "model_module_version": "1.5.0",
      "model_name": "HTMLModel",
      "state": {
       "layout": "IPY_MODEL_99003bdfd5fd4e639796ed5869daef4a",
       "style": "IPY_MODEL_f8392ae6320e4ba1bd69b23c5154016d",
       "value": "removing duplicates: 100%"
      }
     },
     "99003bdfd5fd4e639796ed5869daef4a": {
      "model_module": "@jupyter-widgets/base",
      "model_module_version": "1.2.0",
      "model_name": "LayoutModel",
      "state": {}
     },
     "a2d79df51afe4692822e6b5a47dc28a3": {
      "model_module": "@jupyter-widgets/controls",
      "model_module_version": "1.5.0",
      "model_name": "HBoxModel",
      "state": {
       "children": [
        "IPY_MODEL_8029a28713c24b16981e28e7d2c1158c",
        "IPY_MODEL_8ea632946c4049939b8adce7341e3e3a",
        "IPY_MODEL_7837b7b608ec4b0f8611dac2bffa50ce"
       ],
       "layout": "IPY_MODEL_42d9d0fec82b41209d23b080696da4ad"
      }
     },
     "a3ee91aa7a804d8fb21ed332e04f84c1": {
      "model_module": "@jupyter-widgets/base",
      "model_module_version": "1.2.0",
      "model_name": "LayoutModel",
      "state": {}
     },
     "ae84d77de99f4ec2a5c61834ae1d5a6e": {
      "model_module": "@jupyter-widgets/controls",
      "model_module_version": "1.5.0",
      "model_name": "FloatProgressModel",
      "state": {
       "bar_style": "success",
       "layout": "IPY_MODEL_1500f228f618463d891af0c4e6ffc4a5",
       "max": 18,
       "style": "IPY_MODEL_331db72704844e23851b5f03204c3a3e",
       "value": 18
      }
     },
     "b5e7d06e87c94dd69fa94fa3cb5d192e": {
      "model_module": "@jupyter-widgets/controls",
      "model_module_version": "1.5.0",
      "model_name": "DescriptionStyleModel",
      "state": {
       "description_width": ""
      }
     },
     "ba7c75a4b71948bf9f5d86d325dd8952": {
      "model_module": "@jupyter-widgets/controls",
      "model_module_version": "1.5.0",
      "model_name": "HBoxModel",
      "state": {
       "children": [
        "IPY_MODEL_2af4e5a748fc49ed811681ea80a6ba93",
        "IPY_MODEL_cf49a5b9e6d84b1ab97ba233f11226d5",
        "IPY_MODEL_cc98caa490ec445c96ce4dbc750861a6"
       ],
       "layout": "IPY_MODEL_5b0119a0932047e9a1a7b91a5368b756"
      }
     },
     "c158717166e94e17beb700f25f44081e": {
      "model_module": "@jupyter-widgets/base",
      "model_module_version": "1.2.0",
      "model_name": "LayoutModel",
      "state": {}
     },
     "c571ce48765546408aa5b0a0e8ca5c73": {
      "model_module": "@jupyter-widgets/base",
      "model_module_version": "1.2.0",
      "model_name": "LayoutModel",
      "state": {}
     },
     "cc6ec91deedb4534bc28b07ed972f5e4": {
      "model_module": "@jupyter-widgets/controls",
      "model_module_version": "1.5.0",
      "model_name": "DescriptionStyleModel",
      "state": {
       "description_width": ""
      }
     },
     "cc98caa490ec445c96ce4dbc750861a6": {
      "model_module": "@jupyter-widgets/controls",
      "model_module_version": "1.5.0",
      "model_name": "HTMLModel",
      "state": {
       "layout": "IPY_MODEL_a3ee91aa7a804d8fb21ed332e04f84c1",
       "style": "IPY_MODEL_6c6b11df2a864ae0a5f3a42ba251149c",
       "value": " 6/6 [00:00&lt;00:00, 2491.67it/s]"
      }
     },
     "cf49a5b9e6d84b1ab97ba233f11226d5": {
      "model_module": "@jupyter-widgets/controls",
      "model_module_version": "1.5.0",
      "model_name": "FloatProgressModel",
      "state": {
       "bar_style": "success",
       "layout": "IPY_MODEL_86a22612e7024746a2939065aa5bf175",
       "max": 6,
       "style": "IPY_MODEL_d2efa8c127684de7b9a0c6572f67ab10",
       "value": 6
      }
     },
     "d2efa8c127684de7b9a0c6572f67ab10": {
      "model_module": "@jupyter-widgets/controls",
      "model_module_version": "1.5.0",
      "model_name": "ProgressStyleModel",
      "state": {
       "description_width": ""
      }
     },
     "f8392ae6320e4ba1bd69b23c5154016d": {
      "model_module": "@jupyter-widgets/controls",
      "model_module_version": "1.5.0",
      "model_name": "DescriptionStyleModel",
      "state": {
       "description_width": ""
      }
     },
     "f9165da33faf47009b78400a020c9ee3": {
      "model_module": "@jupyter-widgets/controls",
      "model_module_version": "1.5.0",
      "model_name": "DescriptionStyleModel",
      "state": {
       "description_width": ""
      }
     }
    },
    "version_major": 2,
    "version_minor": 0
   }
  }
 },
 "nbformat": 4,
 "nbformat_minor": 4
}
