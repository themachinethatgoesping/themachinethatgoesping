{
 "cells": [
  {
   "cell_type": "markdown",
   "metadata": {},
   "source": [
    "### `themachinethatgoesping` tutorial series\n",
    "# Tutorial 1: Introduction\n",
    "\n",
    "In this tutorial, we use `themachinethatgoesping` to access the coordinates (latitude/longitude) of all pings in a given dataset. \n",
    "\n",
    "This short sequence illustrates a few core objects of the `themachinethatgoesping`, and how to use them to load and access data.\n",
    "\n",
    "`themachinethatgoesping` concepts covered:\n",
    "- finding .all/.wcd files\n",
    "- data loading\n",
    "- \"File Handler\" object\n",
    "- \"Ping Container\" object\n",
    "- \"Ping\" object\n",
    "- \"Ping Location\" object\n"
   ]
  },
  {
   "cell_type": "markdown",
   "metadata": {},
   "source": [
    "## Summary"
   ]
  },
  {
   "cell_type": "code",
   "execution_count": 1,
   "metadata": {
    "execution": {
     "iopub.execute_input": "2024-10-25T10:55:14.597377Z",
     "iopub.status.busy": "2024-10-25T10:55:14.597230Z",
     "iopub.status.idle": "2024-10-25T10:55:15.171134Z",
     "shell.execute_reply": "2024-10-25T10:55:15.170768Z",
     "shell.execute_reply.started": "2024-10-25T10:55:14.597366Z"
    }
   },
   "outputs": [
    {
     "name": "stdout",
     "output_type": "stream",
     "text": [
      "Found 18 files\n",
      "indexing files ⠐ 100% [00m:00s<00m:00s] [..6328335172073169.all (1/18)]                               \n",
      "indexing files ⠠ 100% [00m:00s<00m:00s] [..3858047591065953.wcd (18/18)]                                \n",
      "indexing files ⢀ 100% [00m:00s<00m:00s] [Found: 1509 datagrams in 18 files (26MB)]                                          \n",
      "Initializing ping interface ⢀ 90% [00m:00s<00m:00s] [Done]                                              \n"
     ]
    },
    {
     "name": "stderr",
     "output_type": "stream",
     "text": [
      "WARNING: get_depth_sensor_offsets: Only DSH (Depth (pressure) sensor heave) == NI is supported yet, but DSH is IN\n",
      "WARNING: get_depth_sensor_offsets: Only DSH (Depth (pressure) sensor heave) == NI is supported yet, but DSH is IN\n"
     ]
    },
    {
     "data": {
      "text/plain": [
       "[<matplotlib.lines.Line2D at 0x7ec389f9ab10>]"
      ]
     },
     "execution_count": 1,
     "metadata": {},
     "output_type": "execute_result"
    },
    {
     "data": {
      "application/vnd.jupyter.widget-view+json": {
       "model_id": "b97d671c86734898a66e2f1cbce28b8c",
       "version_major": 2,
       "version_minor": 0
      },
      "image/png": "[encoded data removed]",
      "text/html": [
       "\n",
       "            <div style=\"display: inline-block;\">\n",
       "                <div class=\"jupyter-widgets widget-label\" style=\"text-align: center;\">\n",
       "                    Figure\n",
       "                </div>\n",
       "                <img src='data:image/png;base64,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' width=640.0/>\n",
       "            </div>\n",
       "        "
      ],
      "text/plain": [
       "Canvas(toolbar=Toolbar(toolitems=[('Home', 'Reset original view', 'home', 'home'), ('Back', 'Back to previous …"
      ]
     },
     "metadata": {},
     "output_type": "display_data"
    }
   ],
   "source": [
    "%matplotlib widget\n",
    "import os\n",
    "\n",
    "from matplotlib import pyplot as plt\n",
    "from themachinethatgoesping.echosounders import index_functions\n",
    "from themachinethatgoesping.echosounders import kongsbergall\n",
    "\n",
    "folders = []\n",
    "folders.append(\"../unittest_data\")\n",
    "\n",
    "# list raw data files\n",
    "files = index_functions.find_files(folders, [\".all\",\"wcd\"])\n",
    "files.sort()\n",
    "\n",
    "# load files' data\n",
    "fh = kongsbergall.KongsbergAllFileHandler(files)\n",
    "\n",
    "# get pings' coordinates\n",
    "lat, lon = [], []\n",
    "for ping in fh.get_pings():\n",
    "    pingLocation = ping.get_geolocation()\n",
    "    lat.append(pingLocation.latitude) \n",
    "    lon.append(pingLocation.longitude)\n",
    "\n",
    "# plot coordinates of all pings in dataset\n",
    "plt.figure()\n",
    "plt.plot(lon, lat, '.')"
   ]
  },
  {
   "cell_type": "markdown",
   "metadata": {},
   "source": [
    "## Step-by-step\n",
    "### 1. List raw data files"
   ]
  },
  {
   "cell_type": "code",
   "execution_count": 2,
   "metadata": {
    "execution": {
     "iopub.execute_input": "2024-10-25T10:55:15.171710Z",
     "iopub.status.busy": "2024-10-25T10:55:15.171508Z",
     "iopub.status.idle": "2024-10-25T10:55:15.178192Z",
     "shell.execute_reply": "2024-10-25T10:55:15.177918Z",
     "shell.execute_reply.started": "2024-10-25T10:55:15.171699Z"
    }
   },
   "outputs": [
    {
     "name": "stdout",
     "output_type": "stream",
     "text": [
      "Found 18 files\n"
     ]
    }
   ],
   "source": [
    "# define a list of folder(s) to search for raw data files\n",
    "# notes: \n",
    "#   - subdirectories will be searched as well\n",
    "#   - you can add multiple folders by appending them to the list\n",
    "#   - pair of files (e.g. .all and .wcd) don't have to be in the same folder\n",
    "folders = []\n",
    "folders.append(\"../unittest_data\")\n",
    "\n",
    "# find all Kongsberg files in the list of folders\n",
    "from themachinethatgoesping.echosounders import index_functions\n",
    "files = index_functions.find_files(folders, [\".all\",\"wcd\"])"
   ]
  },
  {
   "cell_type": "code",
   "execution_count": 3,
   "metadata": {
    "execution": {
     "iopub.execute_input": "2024-10-25T10:55:15.178681Z",
     "iopub.status.busy": "2024-10-25T10:55:15.178529Z",
     "iopub.status.idle": "2024-10-25T10:55:15.181068Z",
     "shell.execute_reply": "2024-10-25T10:55:15.180835Z",
     "shell.execute_reply.started": "2024-10-25T10:55:15.178669Z"
    }
   },
   "outputs": [
    {
     "name": "stdout",
     "output_type": "stream",
     "text": [
      "The output is a <class 'list'> object with 18 elements:\n",
      "(0/18) ../unittest_data/kongsberg/a/c/8136328335172073169.all\n",
      "(1/18) ../unittest_data/kongsberg/a/c/8136328335172073169.wcd\n",
      "(2/18) ../unittest_data/kongsberg/a/f/ALL/7940434004712898291.all\n",
      "(3/18) ../unittest_data/kongsberg/a/f/WCD/7940434004712898291.wcd\n",
      "(4/18) ../unittest_data/kongsberg/a/y/-6430362035178526648.all\n",
      "(5/18) ../unittest_data/kongsberg/a/y/-6430362035178526648.wcd\n",
      "(6/18) ../unittest_data/kongsberg/e/-7731314027977193437.all\n",
      "(7/18) ../unittest_data/kongsberg/e/76411649188412698.all\n",
      "(8/18) ../unittest_data/kongsberg/g/-2784638328592650682.all\n",
      "(9/18) ../unittest_data/kongsberg/g/-2784638328592650682.wcd\n",
      "(10/18) ../unittest_data/kongsberg/he/-3740211369500593285.all\n",
      "(11/18) ../unittest_data/kongsberg/he/-3740211369500593285.wcd\n",
      "(12/18) ../unittest_data/kongsberg/simon/-4564033532462129271.all\n",
      "(13/18) ../unittest_data/kongsberg/simon/-4564033532462129271.wcd\n",
      "(14/18) ../unittest_data/kongsberg/turbeams/-7867389334864073581.all\n",
      "(15/18) ../unittest_data/kongsberg/turbeams/-7867389334864073581.wcd\n",
      "(16/18) ../unittest_data/kongsberg/turbeams/-943858047591065953.all\n",
      "(17/18) ../unittest_data/kongsberg/turbeams/-943858047591065953.wcd\n"
     ]
    }
   ],
   "source": [
    "# show files found\n",
    "print(f\"The output is a {type(files)} object with {len(files)} elements:\")\n",
    "files.sort()\n",
    "for i, file in enumerate(files):\n",
    "    print(f\"({i}/{len(files)}) {file}\")"
   ]
  },
  {
   "cell_type": "markdown",
   "metadata": {},
   "source": [
    "### 2. Load files' data"
   ]
  },
  {
   "cell_type": "code",
   "execution_count": 4,
   "metadata": {
    "execution": {
     "iopub.execute_input": "2024-10-25T10:55:15.181539Z",
     "iopub.status.busy": "2024-10-25T10:55:15.181382Z",
     "iopub.status.idle": "2024-10-25T10:55:15.203883Z",
     "shell.execute_reply": "2024-10-25T10:55:15.203642Z",
     "shell.execute_reply.started": "2024-10-25T10:55:15.181529Z"
    }
   },
   "outputs": [
    {
     "name": "stdout",
     "output_type": "stream",
     "text": [
      "indexing files ⠐ 100% [00m:00s<00m:00s] [..6328335172073169.all (1/18)]                               \n",
      "indexing files ⠠ 100% [00m:00s<00m:00s] [..3858047591065953.wcd (18/18)]                                \n",
      "indexing files ⢀ 100% [00m:00s<00m:00s] [Found: 1509 datagrams in 18 files (26MB)]                                          \n",
      "Initializing ping interface ⢀ 90% [00m:00s<00m:00s] [Done]                                              \n",
      "\n",
      "\n",
      "A File Handler is a <class 'themachinethatgoesping.echosounders_cppy.kongsbergall.KongsbergAllFileHandler'> object.\n",
      "\n",
      "KongsbergAllFileHandler\n",
      "#######################\n",
      "-\n",
      "File infos \n",
      "-------------               \n",
      "- Number of loaded .all files: : 10       \n",
      "- Number of loaded .wcd files: : 8        \n",
      "- Total file size: :             26.58 MB \n",
      "\n",
      " Detected datagrams \n",
      "^^^^^^^^^^^^^^^^^^^^ \n",
      "- timestamp_first:  21/08/2012 17:09:42.36 \n",
      "- timestamp_last:   26/07/2024 15:02:52.40 \n",
      "- Total:            1509                   \n",
      "- Datagrams [0x30]: 4                      [PUIDOutput]\n",
      "- Datagrams [0x31]: 21                     [PUStatusOutput]\n",
      "- Datagrams [0x33]: 3                      [ExtraParameters]\n",
      "- Datagrams [0x41]: 53                     [AttitudeDatagram]\n",
      "- Datagrams [0x43]: 34                     [ClockDatagram]\n",
      "- Datagrams [0x47]: 1                      [SurfaceSoundSpeedDatagram]\n",
      "- Datagrams [0x49]: 18                     [InstallationParametersStart]\n",
      "- Datagrams [0x4e]: 166                    [RawRangeAndAngle]\n",
      "- Datagrams [0x4f]: 10                     [QualityFactorDatagram]\n",
      "- Datagrams [0x50]: 72                     [PositionDatagram]\n",
      "- Datagrams [0x52]: 41                     [RuntimeParameters]\n",
      "- Datagrams [0x55]: 18                     [SoundSpeedProfileDatagram]\n",
      "- Datagrams [0x58]: 186                    [XYZDatagram]\n",
      "- Datagrams [0x59]: 166                    [SeabedImageData]\n",
      "- Datagrams [0x68]: 28                     [DepthOrHeightDatagram]\n",
      "- Datagrams [0x6b]: 432                    [WatercolumnDatagram]\n",
      "- Datagrams [0x6e]: 256                    [NetworkAttitudeVelocityDatagram]\n",
      "\n",
      " Detected Pings \n",
      "---------------- \n",
      "\n",
      " Time info \n",
      "^^^^^^^^^^^             \n",
      "- Start time: 21/08/2012 17:09:42.36 \n",
      "- End time:   21/04/2023 17:48:17.14 \n",
      "- Sorted:     no                     \n",
      "\n",
      " Contained pings \n",
      "^^^^^^^^^^^^^^^^^ \n",
      "- Total:    174 \n",
      "- TRX-102:  66  \n",
      "- TRX-2004: 14  \n",
      "- TRX-2031: 14  \n",
      "- TRX-2086: 16  \n",
      "- TRX-210:  10  \n",
      "- TRX-2106: 16  \n",
      "- TRX-213:  17  \n",
      "- TRX-221:  10  \n",
      "- TRX-233:  11  \n"
     ]
    },
    {
     "name": "stderr",
     "output_type": "stream",
     "text": [
      "WARNING: get_depth_sensor_offsets: Only DSH (Depth (pressure) sensor heave) == NI is supported yet, but DSH is IN\n",
      "WARNING: get_depth_sensor_offsets: Only DSH (Depth (pressure) sensor heave) == NI is supported yet, but DSH is IN\n"
     ]
    }
   ],
   "source": [
    "# load the data with:\n",
    "from themachinethatgoesping.echosounders import kongsbergall\n",
    "fh = kongsbergall.KongsbergAllFileHandler(files)\n",
    "print(\"\\n\")\n",
    "\n",
    "# the output is a \"File Handler\" object. \n",
    "print(f\"A File Handler is a {type(fh)} object.\\n\")\n",
    "\n",
    "# a File Handler manages the entire dataset.\n",
    "\n",
    "# print a summary of the File Handler's contents\n",
    "print(fh)\n",
    "\n",
    "# notes:\n",
    "#   - it is initalized with the list of files\n",
    "#   - the cache file paths are optional but recommended\n",
    "#   - File pairs will be grouped together at this stage"
   ]
  },
  {
   "cell_type": "markdown",
   "metadata": {},
   "source": [
    "### 3. Accessing data"
   ]
  },
  {
   "cell_type": "code",
   "execution_count": 5,
   "metadata": {
    "execution": {
     "iopub.execute_input": "2024-10-25T10:55:15.204356Z",
     "iopub.status.busy": "2024-10-25T10:55:15.204207Z",
     "iopub.status.idle": "2024-10-25T10:55:15.206805Z",
     "shell.execute_reply": "2024-10-25T10:55:15.206589Z",
     "shell.execute_reply.started": "2024-10-25T10:55:15.204340Z"
    }
   },
   "outputs": [
    {
     "name": "stdout",
     "output_type": "stream",
     "text": [
      "A Ping Container is a <class 'themachinethatgoesping.echosounders_cppy.kongsbergall.filedatacontainers.KongsbergAllPingContainer'> object.\n",
      "\n",
      "PingContainer\n",
      "#############\n",
      "-\n",
      "Time info \n",
      "------------            \n",
      "- Start time: 21/08/2012 17:09:42.36 \n",
      "- End time:   21/04/2023 17:48:17.14 \n",
      "- Sorted:     ascending              \n",
      "\n",
      " Contained pings \n",
      "----------------- \n",
      "- Total:    174 \n",
      "- TRX-102:  66  \n",
      "- TRX-2004: 14  \n",
      "- TRX-2031: 14  \n",
      "- TRX-2086: 16  \n",
      "- TRX-210:  10  \n",
      "- TRX-2106: 16  \n",
      "- TRX-213:  17  \n",
      "- TRX-221:  10  \n",
      "- TRX-233:  11  \n"
     ]
    }
   ],
   "source": [
    "# the pings data are obtained from the File Handler with:\n",
    "pc = fh.get_pings()\n",
    "\n",
    "# the output is a \"Ping Container\" object\n",
    "print(f\"A Ping Container is a {type(pc)} object.\\n\")\n",
    "\n",
    "# print a summary of the Ping Container's contents\n",
    "print(pc)"
   ]
  },
  {
   "cell_type": "code",
   "execution_count": 6,
   "metadata": {
    "execution": {
     "iopub.execute_input": "2024-10-25T10:55:15.208027Z",
     "iopub.status.busy": "2024-10-25T10:55:15.207890Z",
     "iopub.status.idle": "2024-10-25T10:55:15.213107Z",
     "shell.execute_reply": "2024-10-25T10:55:15.212818Z",
     "shell.execute_reply.started": "2024-10-25T10:55:15.208017Z"
    }
   },
   "outputs": [
    {
     "name": "stdout",
     "output_type": "stream",
     "text": [
      "A Ping is a <class 'themachinethatgoesping.echosounders_cppy.kongsbergall.filetypes.KongsbergAllPing'> object.\n",
      "\n",
      "KongsbergAllPing\n",
      "################\n",
      "-\n",
      "Ping infos \n",
      "-------------                                                                                                                                                                                                                                                                                                                                                                                                               \n",
      "- Channel id:             TRX-102                                                                                                                                                                                                                                                                                                                                                                                                         \n",
      "- Time info:              13/02/2014 08:12:42.72                                                                                                                                                                                                                                                                                                                                                                                         \n",
      "                          [1392279162.718000]\n",
      "- Features:               .get_timestamp, .get_datetime, .get_channel_id, .get_sensor_configuration, .get_sensor_data_latlon, .get_geolocation                                                                                                                                                                                                                                                                                            \n",
      "- Feature groups:         .bottom, .watercolumn                                                                                                                                                                                                                                                                                                                                                                                           \n",
      "- Features(.bottom):      .bottom : .get_two_way_travel_times, .get_xyz, .get_tx_signal_parameters, .get_number_of_tx_sectors, .get_beam_crosstrack_angles                                                                                                                                                                                                                                                                                \n",
      "- Features(.watercolumn): .watercolumn : .get_amplitudes, .get_tx_signal_parameters, .get_number_of_tx_sectors, .get_beam_numbers_per_tx_sector, .get_beam_selection_all, .get_number_of_beams, .get_tx_sector_per_beam, .get_beam_crosstrack_angles, .get_bottom_range_samples, .get_amplitudes, .get_rp, .get_rv, .get_pp, .get_pv, .get_ap, .get_av, .get_power, .get_watercolumn_calibration, .get_multisectorwatercolumn_calibration\n",
      "                          [Not:.get_sp, .get_sv]\n",
      "\n",
      " Geolocation \n",
      "------------- \n",
      "- latitude:  38°24'4.2\"S   [ddd°mm',ss.s''N/S]\n",
      "- longitude: 142°29'1.7\"E  [ddd°mm',ss.s''E/W]\n",
      "- z:         0.600         [positive downwards, m]\n",
      "- yaw:       13.628        [90 ° at east]\n",
      "- pitch:     0.504         [° positive bow up]\n",
      "- roll:      0.158         [° positive port up]\n"
     ]
    }
   ],
   "source": [
    "# access pings in a Ping Container by indexing\n",
    "examplePing = pc[42]\n",
    "\n",
    "# the output is a \"Ping\" object\n",
    "print(f\"A Ping is a {type(examplePing)} object.\\n\")\n",
    "\n",
    "# print a summary of the Ping's contents\n",
    "print(examplePing)"
   ]
  },
  {
   "cell_type": "code",
   "execution_count": 7,
   "metadata": {
    "execution": {
     "iopub.execute_input": "2024-10-25T10:55:15.213651Z",
     "iopub.status.busy": "2024-10-25T10:55:15.213419Z",
     "iopub.status.idle": "2024-10-25T10:55:15.218330Z",
     "shell.execute_reply": "2024-10-25T10:55:15.218099Z",
     "shell.execute_reply.started": "2024-10-25T10:55:15.213640Z"
    }
   },
   "outputs": [
    {
     "name": "stdout",
     "output_type": "stream",
     "text": [
      "A Ping Location is a <class 'themachinethatgoesping.navigation.datastructures.GeolocationLatLon'> object.\n",
      "\n",
      "GeolocationLatLon (struct)\n",
      "##########################\n",
      "- latitude:  38°24'4.2\"S   [ddd°mm',ss.s''N/S]\n",
      "- longitude: 142°29'1.7\"E  [ddd°mm',ss.s''E/W]\n",
      "- z:         0.600         [positive downwards, m]\n",
      "- yaw:       13.628        [90 ° at east]\n",
      "- pitch:     0.504         [° positive bow up]\n",
      "- roll:      0.158         [° positive port up]\n"
     ]
    }
   ],
   "source": [
    "# a Ping has 3 types of information: base, bottom, and water-column.\n",
    "# base information includes location\n",
    "examplePingLocation = examplePing.get_geolocation()\n",
    "\n",
    "# the output is a \"Ping Location\" object\n",
    "print(f\"A Ping Location is a {type(examplePingLocation)} object.\\n\")\n",
    "\n",
    "# print a summary of the Ping Location's contents\n",
    "print(examplePingLocation)"
   ]
  },
  {
   "cell_type": "code",
   "execution_count": 8,
   "metadata": {
    "execution": {
     "iopub.execute_input": "2024-10-25T10:55:15.218816Z",
     "iopub.status.busy": "2024-10-25T10:55:15.218612Z",
     "iopub.status.idle": "2024-10-25T10:55:15.224077Z",
     "shell.execute_reply": "2024-10-25T10:55:15.223863Z",
     "shell.execute_reply.started": "2024-10-25T10:55:15.218807Z"
    }
   },
   "outputs": [
    {
     "name": "stdout",
     "output_type": "stream",
     "text": [
      "Example ping location - Latitude: -38.40116296430116, Longitude: 142.48379345259943\n"
     ]
    }
   ],
   "source": [
    "# get the latitude and longitude of the ping from the Ping Location\n",
    "lat, long = examplePingLocation.latitude, examplePingLocation.longitude\n",
    "print(f\"Example ping location - Latitude: {lat}, Longitude: {long}\")"
   ]
  },
  {
   "cell_type": "code",
   "execution_count": 9,
   "metadata": {
    "execution": {
     "iopub.execute_input": "2024-10-25T10:55:15.224472Z",
     "iopub.status.busy": "2024-10-25T10:55:15.224372Z",
     "iopub.status.idle": "2024-10-25T10:55:15.266440Z",
     "shell.execute_reply": "2024-10-25T10:55:15.266178Z",
     "shell.execute_reply.started": "2024-10-25T10:55:15.224463Z"
    }
   },
   "outputs": [
    {
     "data": {
      "text/plain": [
       "[<matplotlib.lines.Line2D at 0x7ec37e170e60>]"
      ]
     },
     "execution_count": 9,
     "metadata": {},
     "output_type": "execute_result"
    },
    {
     "data": {
      "application/vnd.jupyter.widget-view+json": {
       "model_id": "d01b50ee3df84a3ebb01475f7d68f1ae",
       "version_major": 2,
       "version_minor": 0
      },
      "image/png": "[encoded data removed]",
      "text/html": [
       "\n",
       "            <div style=\"display: inline-block;\">\n",
       "                <div class=\"jupyter-widgets widget-label\" style=\"text-align: center;\">\n",
       "                    Figure\n",
       "                </div>\n",
       "                <img src='data:image/png;base64,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' width=640.0/>\n",
       "            </div>\n",
       "        "
      ],
      "text/plain": [
       "Canvas(toolbar=Toolbar(toolitems=[('Home', 'Reset original view', 'home', 'home'), ('Back', 'Back to previous …"
      ]
     },
     "metadata": {},
     "output_type": "display_data"
    }
   ],
   "source": [
    "# get pings' coordinates of all pings\n",
    "lat, lon = [], []\n",
    "for ping in fh.get_pings():\n",
    "    pingLocation = ping.get_geolocation()\n",
    "    lat.append(pingLocation.latitude) \n",
    "    lon.append(pingLocation.longitude)\n",
    "\n",
    "# plot coordinates of all pings in dataset\n",
    "plt.figure()\n",
    "plt.plot(lon, lat, '.')"
   ]
  },
  {
   "cell_type": "code",
   "execution_count": null,
   "metadata": {},
   "outputs": [],
   "source": []
  }
 ],
 "metadata": {
  "kernelspec": {
   "display_name": "ping",
   "language": "python",
   "name": "python3"
  },
  "language_info": {
   "codemirror_mode": {
    "name": "ipython",
    "version": 3
   },
   "file_extension": ".py",
   "mimetype": "text/x-python",
   "name": "python",
   "nbconvert_exporter": "python",
   "pygments_lexer": "ipython3",
   "version": "3.12.7"
  },
  "widgets": {
   "application/vnd.jupyter.widget-state+json": {
    "state": {
     "02a2f304e45544d4acb86867849e3cde": {
      "model_module": "@jupyter-widgets/base",
      "model_module_version": "2.0.0",
      "model_name": "LayoutModel",
      "state": {}
     },
     "139391cd25964eeeab97e5fd85ef1182": {
      "model_module": "@jupyter-widgets/controls",
      "model_module_version": "2.0.0",
      "model_name": "HTMLModel",
      "state": {
       "layout": "IPY_MODEL_02a2f304e45544d4acb86867849e3cde",
       "style": "IPY_MODEL_d271708258894531865cc4d6baebaf37",
       "value": "removing duplicates: 100%"
      }
     },
     "1c004e7e06b742cebd0b70a2211dfbe2": {
      "model_module": "@jupyter-widgets/base",
      "model_module_version": "2.0.0",
      "model_name": "LayoutModel",
      "state": {}
     },
     "1e8ea2ef36914e299fd8b187f4fce4f5": {
      "model_module": "@jupyter-widgets/base",
      "model_module_version": "2.0.0",
      "model_name": "LayoutModel",
      "state": {}
     },
     "282e8ffd809b4667800ad4716c92ecff": {
      "model_module": "@jupyter-widgets/base",
      "model_module_version": "2.0.0",
      "model_name": "LayoutModel",
      "state": {}
     },
     "2e69ef5921be477b8d0a21c734c6bf7b": {
      "model_module": "@jupyter-widgets/controls",
      "model_module_version": "2.0.0",
      "model_name": "HTMLModel",
      "state": {
       "layout": "IPY_MODEL_526163d1e95646c898eedcf92046396a",
       "style": "IPY_MODEL_805072820eea431fad8e53293e391654",
       "value": "removing duplicates: 100%"
      }
     },
     "3db4966834a14aa3a4f899d88556e2aa": {
      "model_module": "@jupyter-widgets/base",
      "model_module_version": "2.0.0",
      "model_name": "LayoutModel",
      "state": {}
     },
     "3f4cd3f7178440d5a021fcad4849be33": {
      "model_module": "@jupyter-widgets/controls",
      "model_module_version": "2.0.0",
      "model_name": "HTMLModel",
      "state": {
       "layout": "IPY_MODEL_9f81b598ea624c409b5c45d7156038a7",
       "style": "IPY_MODEL_95cdbf5e393443baaf25e31a0b92b20a",
       "value": " 18/18 [00:00&lt;00:00, 9055.71it/s]"
      }
     },
     "508f0661878446889a9af33be5317a65": {
      "model_module": "@jupyter-widgets/base",
      "model_module_version": "2.0.0",
      "model_name": "LayoutModel",
      "state": {}
     },
     "526163d1e95646c898eedcf92046396a": {
      "model_module": "@jupyter-widgets/base",
      "model_module_version": "2.0.0",
      "model_name": "LayoutModel",
      "state": {}
     },
     "592dec35e99f4d369aeeea289c4ed11d": {
      "model_module": "@jupyter-widgets/base",
      "model_module_version": "2.0.0",
      "model_name": "LayoutModel",
      "state": {}
     },
     "5ca09e805679489894224d2d41346532": {
      "model_module": "@jupyter-widgets/controls",
      "model_module_version": "2.0.0",
      "model_name": "HBoxModel",
      "state": {
       "children": [
        "IPY_MODEL_2e69ef5921be477b8d0a21c734c6bf7b",
        "IPY_MODEL_e0588fe6d4a74918be13e25fa83ccc73",
        "IPY_MODEL_3f4cd3f7178440d5a021fcad4849be33"
       ],
       "layout": "IPY_MODEL_ee75a35214e54ca69f40cd0f936527bb"
      }
     },
     "66a70927992a4576a2f04cff7b29e564": {
      "model_module": "jupyter-matplotlib",
      "model_module_version": "^0.11",
      "model_name": "ToolbarModel",
      "state": {
       "_model_module_version": "^0.11",
       "_view_module_version": "^0.11",
       "collapsed": true,
       "layout": "IPY_MODEL_592dec35e99f4d369aeeea289c4ed11d",
       "orientation": "vertical",
       "toolitems": [
        [
         "Home",
         "Reset original view",
         "home",
         "home"
        ],
        [
         "Back",
         "Back to previous view",
         "arrow-left",
         "back"
        ],
        [
         "Forward",
         "Forward to next view",
         "arrow-right",
         "forward"
        ],
        [
         "Pan",
         "Left button pans, Right button zooms\nx/y fixes axis, CTRL fixes aspect",
         "arrows",
         "pan"
        ],
        [
         "Zoom",
         "Zoom to rectangle\nx/y fixes axis",
         "square-o",
         "zoom"
        ],
        [
         "Download",
         "Download plot",
         "floppy-o",
         "save_figure"
        ]
       ]
      }
     },
     "68bfcf36d5304a13ad1578e7edefab61": {
      "model_module": "@jupyter-widgets/controls",
      "model_module_version": "2.0.0",
      "model_name": "HBoxModel",
      "state": {
       "children": [
        "IPY_MODEL_139391cd25964eeeab97e5fd85ef1182",
        "IPY_MODEL_e769b74e4e9b4b86aab9495d9af433b4",
        "IPY_MODEL_cda11165b2144f0fba847e7af4f697fd"
       ],
       "layout": "IPY_MODEL_508f0661878446889a9af33be5317a65"
      }
     },
     "805072820eea431fad8e53293e391654": {
      "model_module": "@jupyter-widgets/controls",
      "model_module_version": "2.0.0",
      "model_name": "HTMLStyleModel",
      "state": {
       "description_width": "",
       "font_size": null,
       "text_color": null
      }
     },
     "95cdbf5e393443baaf25e31a0b92b20a": {
      "model_module": "@jupyter-widgets/controls",
      "model_module_version": "2.0.0",
      "model_name": "HTMLStyleModel",
      "state": {
       "description_width": "",
       "font_size": null,
       "text_color": null
      }
     },
     "9f81b598ea624c409b5c45d7156038a7": {
      "model_module": "@jupyter-widgets/base",
      "model_module_version": "2.0.0",
      "model_name": "LayoutModel",
      "state": {}
     },
     "b5af38188fdb4c1aa643db2dca504474": {
      "model_module": "@jupyter-widgets/controls",
      "model_module_version": "2.0.0",
      "model_name": "ProgressStyleModel",
      "state": {
       "description_width": ""
      }
     },
     "b7466f646e4d4188a649c88962ecf8fc": {
      "model_module": "@jupyter-widgets/controls",
      "model_module_version": "2.0.0",
      "model_name": "ProgressStyleModel",
      "state": {
       "description_width": ""
      }
     },
     "b97d671c86734898a66e2f1cbce28b8c": {
      "model_module": "jupyter-matplotlib",
      "model_module_version": "^0.11",
      "model_name": "MPLCanvasModel",
      "state": {
       "_data_url": "data:image/png;base64,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",
       "_figure_label": "Figure 1",
       "_model_module_version": "^0.11",
       "_size": [
        640,
        479.99999999999994
       ],
       "_view_module_version": "^0.11",
       "layout": "IPY_MODEL_282e8ffd809b4667800ad4716c92ecff",
       "toolbar": "IPY_MODEL_fce954690b9541e29c4c5a1d585ead4d",
       "toolbar_position": "left"
      }
     },
     "cda11165b2144f0fba847e7af4f697fd": {
      "model_module": "@jupyter-widgets/controls",
      "model_module_version": "2.0.0",
      "model_name": "HTMLModel",
      "state": {
       "layout": "IPY_MODEL_3db4966834a14aa3a4f899d88556e2aa",
       "style": "IPY_MODEL_f79c5c46794e44ac991aaad3df38c462",
       "value": " 18/18 [00:00&lt;00:00, 8318.36it/s]"
      }
     },
     "d01b50ee3df84a3ebb01475f7d68f1ae": {
      "model_module": "jupyter-matplotlib",
      "model_module_version": "^0.11",
      "model_name": "MPLCanvasModel",
      "state": {
       "_data_url": "data:image/png;base64,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",
       "_figure_label": "Figure 2",
       "_model_module_version": "^0.11",
       "_size": [
        640,
        479.99999999999994
       ],
       "_view_module_version": "^0.11",
       "layout": "IPY_MODEL_fea61d2b88724ba88035a9653d4ae02f",
       "toolbar": "IPY_MODEL_66a70927992a4576a2f04cff7b29e564",
       "toolbar_position": "left"
      }
     },
     "d271708258894531865cc4d6baebaf37": {
      "model_module": "@jupyter-widgets/controls",
      "model_module_version": "2.0.0",
      "model_name": "HTMLStyleModel",
      "state": {
       "description_width": "",
       "font_size": null,
       "text_color": null
      }
     },
     "d2799a2735524d1fba4ade7b333c2ff3": {
      "model_module": "@jupyter-widgets/base",
      "model_module_version": "2.0.0",
      "model_name": "LayoutModel",
      "state": {}
     },
     "e0588fe6d4a74918be13e25fa83ccc73": {
      "model_module": "@jupyter-widgets/controls",
      "model_module_version": "2.0.0",
      "model_name": "FloatProgressModel",
      "state": {
       "bar_style": "success",
       "layout": "IPY_MODEL_1c004e7e06b742cebd0b70a2211dfbe2",
       "max": 18,
       "style": "IPY_MODEL_b5af38188fdb4c1aa643db2dca504474",
       "value": 18
      }
     },
     "e769b74e4e9b4b86aab9495d9af433b4": {
      "model_module": "@jupyter-widgets/controls",
      "model_module_version": "2.0.0",
      "model_name": "FloatProgressModel",
      "state": {
       "bar_style": "success",
       "layout": "IPY_MODEL_d2799a2735524d1fba4ade7b333c2ff3",
       "max": 18,
       "style": "IPY_MODEL_b7466f646e4d4188a649c88962ecf8fc",
       "value": 18
      }
     },
     "ee75a35214e54ca69f40cd0f936527bb": {
      "model_module": "@jupyter-widgets/base",
      "model_module_version": "2.0.0",
      "model_name": "LayoutModel",
      "state": {}
     },
     "f79c5c46794e44ac991aaad3df38c462": {
      "model_module": "@jupyter-widgets/controls",
      "model_module_version": "2.0.0",
      "model_name": "HTMLStyleModel",
      "state": {
       "description_width": "",
       "font_size": null,
       "text_color": null
      }
     },
     "fce954690b9541e29c4c5a1d585ead4d": {
      "model_module": "jupyter-matplotlib",
      "model_module_version": "^0.11",
      "model_name": "ToolbarModel",
      "state": {
       "_model_module_version": "^0.11",
       "_view_module_version": "^0.11",
       "collapsed": true,
       "layout": "IPY_MODEL_1e8ea2ef36914e299fd8b187f4fce4f5",
       "orientation": "vertical",
       "toolitems": [
        [
         "Home",
         "Reset original view",
         "home",
         "home"
        ],
        [
         "Back",
         "Back to previous view",
         "arrow-left",
         "back"
        ],
        [
         "Forward",
         "Forward to next view",
         "arrow-right",
         "forward"
        ],
        [
         "Pan",
         "Left button pans, Right button zooms\nx/y fixes axis, CTRL fixes aspect",
         "arrows",
         "pan"
        ],
        [
         "Zoom",
         "Zoom to rectangle\nx/y fixes axis",
         "square-o",
         "zoom"
        ],
        [
         "Download",
         "Download plot",
         "floppy-o",
         "save_figure"
        ]
       ]
      }
     },
     "fea61d2b88724ba88035a9653d4ae02f": {
      "model_module": "@jupyter-widgets/base",
      "model_module_version": "2.0.0",
      "model_name": "LayoutModel",
      "state": {}
     }
    },
    "version_major": 2,
    "version_minor": 0
   }
  }
 },
 "nbformat": 4,
 "nbformat_minor": 4
}
