{
 "cells": [
  {
   "cell_type": "markdown",
   "metadata": {},
   "source": [
    "# Tutorial 3: WCI Viewer widget\n",
    "### `themachinethatgoesping` tutorial series\n",
    "\n",
    "`themachinethatgoesping` concepts covered:\n",
    "- Start WCI viewer"
   ]
  },
  {
   "cell_type": "code",
   "execution_count": 1,
   "metadata": {
    "execution": {
     "iopub.execute_input": "2024-11-06T12:08:52.815108Z",
     "iopub.status.busy": "2024-11-06T12:08:52.814983Z",
     "iopub.status.idle": "2024-11-06T12:08:53.472666Z",
     "shell.execute_reply": "2024-11-06T12:08:53.472336Z",
     "shell.execute_reply.started": "2024-11-06T12:08:52.815094Z"
    }
   },
   "outputs": [],
   "source": [
    "%matplotlib widget\n",
    "\n",
    "import numpy as np\n",
    "import themachinethatgoesping as pingmachine\n",
    "from matplotlib import pyplot as plt\n",
    "from tqdm.auto import tqdm"
   ]
  },
  {
   "cell_type": "code",
   "execution_count": 2,
   "metadata": {
    "execution": {
     "iopub.execute_input": "2024-11-06T12:08:53.473245Z",
     "iopub.status.busy": "2024-11-06T12:08:53.473040Z",
     "iopub.status.idle": "2024-11-06T12:08:53.507014Z",
     "shell.execute_reply": "2024-11-06T12:08:53.506735Z",
     "shell.execute_reply.started": "2024-11-06T12:08:53.473234Z"
    }
   },
   "outputs": [
    {
     "name": "stdout",
     "output_type": "stream",
     "text": [
      "Found 18 files\n",
      "indexing files ⠐ 100% [00m:00s<00m:00s] [..6328335172073169.all (1/18)]                               \n",
      "indexing files ⠠ 100% [00m:00s<00m:00s] [..3858047591065953.wcd (18/18)]                                \n",
      "indexing files ⢀ 100% [00m:00s<00m:00s] [Found: 1484 datagrams in 18 files (26MB)]                                          \n",
      "Initializing ping interface ⢀ 90% [00m:00s<00m:00s] [Done]                                              \n"
     ]
    },
    {
     "name": "stderr",
     "output_type": "stream",
     "text": [
      "WARNING: get_depth_sensor_offsets: Only DSH (Depth (pressure) sensor heave) == NI is supported yet, but DSH is IN\n",
      "WARNING: get_depth_sensor_offsets: Only DSH (Depth (pressure) sensor heave) == NI is supported yet, but DSH is IN\n"
     ]
    }
   ],
   "source": [
    "# data folder\n",
    "folder = '../unittest_data'\n",
    "\n",
    "# find all Kongsberg files in the list of folders\n",
    "files = pingmachine.echosounders.index_functions.find_files(folder,['.all','.wcd'])\n",
    "files.sort()\n",
    "\n",
    "# create the file handler\n",
    "fileHandler = pingmachine.echosounders.kongsbergall.KongsbergAllFileHandler(files)\n",
    "\n",
    "# get pings that contain WCD\n",
    "pings = pingmachine.pingprocessing.filter_pings.by_features(fileHandler.get_pings(),['watercolumn.amplitudes'])"
   ]
  },
  {
   "cell_type": "markdown",
   "metadata": {},
   "source": [
    "### Start WCI viewer\n",
    "\n",
    "Built-in widget to view and explore water-column data"
   ]
  },
  {
   "cell_type": "code",
   "execution_count": 3,
   "metadata": {
    "execution": {
     "iopub.execute_input": "2024-11-06T12:08:53.507455Z",
     "iopub.status.busy": "2024-11-06T12:08:53.507350Z",
     "iopub.status.idle": "2024-11-06T12:08:53.673476Z",
     "shell.execute_reply": "2024-11-06T12:08:53.673196Z",
     "shell.execute_reply.started": "2024-11-06T12:08:53.507445Z"
    }
   },
   "outputs": [
    {
     "data": {
      "application/vnd.jupyter.widget-view+json": {
       "model_id": "506d6101b9b34f258790c8fa0f5097a3",
       "version_major": 2,
       "version_minor": 0
      },
      "text/plain": [
       "VBox(children=(Canvas(toolbar=Toolbar(toolitems=[('Home', 'Reset original view', 'home', 'home'), ('Back', 'Ba…"
      ]
     },
     "metadata": {},
     "output_type": "display_data"
    }
   ],
   "source": [
    "# check data with the WCI Viewer\n",
    "viewer = pingmachine.pingprocessing.widgets.WCIViewer(pings)"
   ]
  },
  {
   "cell_type": "markdown",
   "metadata": {},
   "source": [
    "Basic usage:\n",
    "* Switch display between beam-vs-sample view and wedge view with the `wci_render` dropdown menu\n",
    "* Swith xy aspect with the `aspect` dropdown menu. Choose between `auto` (stretch) or `equal` (equal x and y dimensions)\n",
    "* Change ping number with the `ping nr` slider\n",
    "* Click the `fix x/y` button to fix the x/y axis limits to the current view. Click on `unfix x/y` to revert to automatic axis limits\n",
    "* Change the variable displayed with the `wci value` dropdown menu"
   ]
  },
  {
   "cell_type": "markdown",
   "metadata": {},
   "source": []
  },
  {
   "cell_type": "code",
   "execution_count": 4,
   "metadata": {
    "execution": {
     "iopub.execute_input": "2024-11-06T12:08:53.673934Z",
     "iopub.status.busy": "2024-11-06T12:08:53.673823Z",
     "iopub.status.idle": "2024-11-06T12:08:53.833162Z",
     "shell.execute_reply": "2024-11-06T12:08:53.832829Z",
     "shell.execute_reply.started": "2024-11-06T12:08:53.673924Z"
    }
   },
   "outputs": [
    {
     "name": "stdout",
     "output_type": "stream",
     "text": [
      "<class 'list'>\n"
     ]
    },
    {
     "data": {
      "application/vnd.jupyter.widget-view+json": {
       "model_id": "e4effb50c68d467792e1307f8ebb2990",
       "version_major": 2,
       "version_minor": 0
      },
      "text/plain": [
       "VBox(children=(Canvas(toolbar=Toolbar(toolitems=[('Home', 'Reset original view', 'home', 'home'), ('Back', 'Ba…"
      ]
     },
     "metadata": {},
     "output_type": "display_data"
    }
   ],
   "source": [
    "# Note if you have dual head systems you can group head data\n",
    "grouped_pings = pingmachine.pingprocessing.group_pings.dual_head(pings)\n",
    "print(type(grouped_pings))\n",
    "viewer = pingmachine.pingprocessing.widgets.WCIViewer(grouped_pings,name = 'WCI (Dual head grouped)')"
   ]
  },
  {
   "cell_type": "code",
   "execution_count": null,
   "metadata": {},
   "outputs": [],
   "source": []
  }
 ],
 "metadata": {
  "kernelspec": {
   "display_name": "Python 3 (ipykernel)",
   "language": "python",
   "name": "python3"
  },
  "language_info": {
   "codemirror_mode": {
    "name": "ipython",
    "version": 3
   },
   "file_extension": ".py",
   "mimetype": "text/x-python",
   "name": "python",
   "nbconvert_exporter": "python",
   "pygments_lexer": "ipython3",
   "version": "3.12.7"
  },
  "widgets": {
   "application/vnd.jupyter.widget-state+json": {
    "state": {
     "0377f68fb9174223a2c29a14392db09c": {
      "model_module": "@jupyter-widgets/controls",
      "model_module_version": "1.5.0",
      "model_name": "DescriptionStyleModel",
      "state": {
       "description_width": ""
      }
     },
     "079dc86329d84dbc9f8799cc167dba96": {
      "model_module": "@jupyter-widgets/controls",
      "model_module_version": "1.5.0",
      "model_name": "HBoxModel",
      "state": {
       "children": [
        "IPY_MODEL_854e1a6b97994ecb9e8de4e632f92c90",
        "IPY_MODEL_e5ed5eae5b49407b80bb428820167f19",
        "IPY_MODEL_e2d6a54b2bd24bdaa3b523f2730ed196",
        "IPY_MODEL_8ee3cce107d94549b541f1cb55de43f4"
       ],
       "layout": "IPY_MODEL_69508b8a859347fdb98b63a0ce35e251"
      }
     },
     "07a115f84fdf48c2b5676a2775ed683c": {
      "model_module": "@jupyter-widgets/controls",
      "model_module_version": "1.5.0",
      "model_name": "DescriptionStyleModel",
      "state": {
       "description_width": ""
      }
     },
     "0819dd741bef4ac7afe4babc748ef01c": {
      "model_module": "@jupyter-widgets/output",
      "model_module_version": "1.0.0",
      "model_name": "OutputModel",
      "state": {
       "layout": "IPY_MODEL_65cee90aaeab4f058c35fca82791af81"
      }
     },
     "10d25cf2d901423a8231cee8876f5556": {
      "model_module": "@jupyter-widgets/controls",
      "model_module_version": "1.5.0",
      "model_name": "TextModel",
      "state": {
       "layout": "IPY_MODEL_e98820b795b34402b23ef83104a2280b",
       "style": "IPY_MODEL_62b5722a1231467ebc3a619e01b1a0c2",
       "value": "17:09:42"
      }
     },
     "1650d8d23ccc4b0cb5655ba1fce807e3": {
      "model_module": "@jupyter-widgets/base",
      "model_module_version": "1.2.0",
      "model_name": "LayoutModel",
      "state": {}
     },
     "17f64a723db34fc0b88de8884b876c3e": {
      "model_module": "@jupyter-widgets/base",
      "model_module_version": "1.2.0",
      "model_name": "LayoutModel",
      "state": {}
     },
     "181e3ff05b214e89a9fc16bba3cb03af": {
      "model_module": "@jupyter-widgets/base",
      "model_module_version": "1.2.0",
      "model_name": "LayoutModel",
      "state": {
       "width": "10%"
      }
     },
     "189f7c37f5d6424e95a4feda6214da7f": {
      "model_module": "@jupyter-widgets/controls",
      "model_module_version": "1.5.0",
      "model_name": "ButtonStyleModel",
      "state": {}
     },
     "18d70d422d074539acdd0fd57079e00e": {
      "model_module": "@jupyter-widgets/controls",
      "model_module_version": "1.5.0",
      "model_name": "HBoxModel",
      "state": {
       "children": [
        "IPY_MODEL_4c722602290445989619c9670701a446",
        "IPY_MODEL_33bd484dc5e04879a5d994a978dc0f47",
        "IPY_MODEL_ae67e0a2e32a452fbb3a4ce502e66bae",
        "IPY_MODEL_5b5529c02a34467ca70db09a508e6645",
        "IPY_MODEL_1d5af24ccdad499297af752ac14445aa",
        "IPY_MODEL_e7d3f185d3eb4a6b88923a2fcc13bf82"
       ],
       "layout": "IPY_MODEL_5c4780f100c84df48099d38ad67f183c"
      }
     },
     "19f8b1e0e98f4e59ae7b38035fb8a66c": {
      "model_module": "jupyter-matplotlib",
      "model_module_version": "^0.11",
      "model_name": "MPLCanvasModel",
      "state": {
       "_cursor": "default",
       "_data_url": "data:image/png;base64,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",
       "_figure_label": "WCI (Dual head grouped)",
       "_model_module_version": "^0.11",
       "_size": [
        1000,
        400
       ],
       "_view_module_version": "^0.11",
       "layout": "IPY_MODEL_c79fda5007974ed9be7e36268de3047d",
       "toolbar": "IPY_MODEL_7d5c6e7d569146f6ab5488872fc8242b",
       "toolbar_position": "left"
      }
     },
     "1b56fa48bedc43809caa3b883765c664": {
      "model_module": "@jupyter-widgets/controls",
      "model_module_version": "1.5.0",
      "model_name": "ProgressStyleModel",
      "state": {
       "description_width": ""
      }
     },
     "1d0b14daffae4feaa0d4ae852d690cf0": {
      "model_module": "@jupyter-widgets/controls",
      "model_module_version": "1.5.0",
      "model_name": "DescriptionStyleModel",
      "state": {
       "description_width": ""
      }
     },
     "1d5af24ccdad499297af752ac14445aa": {
      "model_module": "@jupyter-widgets/controls",
      "model_module_version": "1.5.0",
      "model_name": "IntTextModel",
      "state": {
       "description": "stack step:",
       "layout": "IPY_MODEL_4da400c9835741469d912e7301c9c127",
       "step": 1,
       "style": "IPY_MODEL_1d0b14daffae4feaa0d4ae852d690cf0",
       "value": 1
      }
     },
     "1fba28b707f543f68dfb113e11e822fb": {
      "model_module": "@jupyter-widgets/controls",
      "model_module_version": "1.5.0",
      "model_name": "IntProgressModel",
      "state": {
       "description": "Idle",
       "layout": "IPY_MODEL_e4b6ed97814f4c588d60ac91933ef797",
       "max": 10,
       "style": "IPY_MODEL_f0caf967c413496095dd89e0f40bd72f"
      }
     },
     "20f29525a1eb4d7ba6dd64fe91697a0e": {
      "model_module": "@jupyter-widgets/controls",
      "model_module_version": "1.5.0",
      "model_name": "IntSliderModel",
      "state": {
       "description": "ping nr",
       "layout": "IPY_MODEL_bfb65224e371416c9233cade9dec1a7f",
       "max": 127,
       "style": "IPY_MODEL_de6e5fca6fa64f0b9516c0fdaa534128"
      }
     },
     "20fe5bf251314a44af3fc0c92ede9011": {
      "model_module": "@jupyter-widgets/controls",
      "model_module_version": "1.5.0",
      "model_name": "DropdownModel",
      "state": {
       "_options_labels": [
        "sv/av/pv/rv",
        "sv/av/pv",
        "sv/av",
        "sp/ap/pp/rp",
        "sp/ap/pp",
        "sp/ap",
        "power/amp",
        "av",
        "ap",
        "amp",
        "sv",
        "sp",
        "pv",
        "pp",
        "rv",
        "rp",
        "power"
       ],
       "description": "wci value",
       "index": 0,
       "layout": "IPY_MODEL_a8cd4e56c8ce44babdf56fe9e825e914",
       "style": "IPY_MODEL_8bb7934f18cf44ea9434ed1fe599bc65"
      }
     },
     "23eaf9d48d9d49789ba4467662d0ecf5": {
      "model_module": "@jupyter-widgets/base",
      "model_module_version": "1.2.0",
      "model_name": "LayoutModel",
      "state": {
       "width": "10%"
      }
     },
     "24c85d9b6b664cdeb666944060c7f5ae": {
      "model_module": "@jupyter-widgets/base",
      "model_module_version": "1.2.0",
      "model_name": "LayoutModel",
      "state": {
       "width": "15%"
      }
     },
     "2776a39b0c3a4f16a57bed158bc91896": {
      "model_module": "@jupyter-widgets/base",
      "model_module_version": "1.2.0",
      "model_name": "LayoutModel",
      "state": {
       "width": "10%"
      }
     },
     "2abc8f1cb0eb4b8b9e827d64dac2397e": {
      "model_module": "@jupyter-widgets/base",
      "model_module_version": "1.2.0",
      "model_name": "LayoutModel",
      "state": {
       "width": "15%"
      }
     },
     "2c013e3499754f11babd91bdc5f97146": {
      "model_module": "@jupyter-widgets/controls",
      "model_module_version": "1.5.0",
      "model_name": "DescriptionStyleModel",
      "state": {
       "description_width": ""
      }
     },
     "33bd484dc5e04879a5d994a978dc0f47": {
      "model_module": "@jupyter-widgets/controls",
      "model_module_version": "1.5.0",
      "model_name": "TextModel",
      "state": {
       "layout": "IPY_MODEL_23eaf9d48d9d49789ba4467662d0ecf5",
       "style": "IPY_MODEL_8d30aededf034173acdab885c17034f8",
       "value": "2012-08-21"
      }
     },
     "37422911d0dc41b9acef2e39910e4afa": {
      "model_module": "@jupyter-widgets/base",
      "model_module_version": "1.2.0",
      "model_name": "LayoutModel",
      "state": {
       "width": "50%"
      }
     },
     "38786ffb316547c7aad590b9e530dd27": {
      "model_module": "@jupyter-widgets/controls",
      "model_module_version": "1.5.0",
      "model_name": "IntTextModel",
      "state": {
       "description": "stack step:",
       "layout": "IPY_MODEL_24c85d9b6b664cdeb666944060c7f5ae",
       "step": 1,
       "style": "IPY_MODEL_a45e4103bc6241d4b10eeb324659ace9",
       "value": 1
      }
     },
     "3e88300af0434cd7b0a8c5bc88034fee": {
      "model_module": "@jupyter-widgets/controls",
      "model_module_version": "1.5.0",
      "model_name": "SliderStyleModel",
      "state": {
       "description_width": ""
      }
     },
     "3f5ac593a36f413db9b8d565be493994": {
      "model_module": "@jupyter-widgets/controls",
      "model_module_version": "1.5.0",
      "model_name": "HBoxModel",
      "state": {
       "children": [
        "IPY_MODEL_f4ccda51965b421191d0c77b84eca6b9",
        "IPY_MODEL_d74bf91bde1f4117b1acfbd4a8170fde",
        "IPY_MODEL_9a4bcbfab7ba4c96a013f8a5b26ad363"
       ],
       "layout": "IPY_MODEL_eda87c1d142a4b909f7c764ccf66407b"
      }
     },
     "3f80ee62d2574495b24462115be3f848": {
      "model_module": "@jupyter-widgets/controls",
      "model_module_version": "1.5.0",
      "model_name": "DescriptionStyleModel",
      "state": {
       "description_width": ""
      }
     },
     "3fe9596b4e004b14b7901ce8978a4fc8": {
      "model_module": "@jupyter-widgets/base",
      "model_module_version": "1.2.0",
      "model_name": "LayoutModel",
      "state": {}
     },
     "401844f47c234e2fb44ff793d0d04af2": {
      "model_module": "@jupyter-widgets/controls",
      "model_module_version": "1.5.0",
      "model_name": "DescriptionStyleModel",
      "state": {
       "description_width": ""
      }
     },
     "4027c86f4ef04501bf4202109641be7a": {
      "model_module": "@jupyter-widgets/base",
      "model_module_version": "1.2.0",
      "model_name": "LayoutModel",
      "state": {}
     },
     "410b3c6bfc6447cbbaa5e0aec992eb28": {
      "model_module": "@jupyter-widgets/controls",
      "model_module_version": "1.5.0",
      "model_name": "TextModel",
      "state": {
       "layout": "IPY_MODEL_181e3ff05b214e89a9fc16bba3cb03af",
       "style": "IPY_MODEL_2c013e3499754f11babd91bdc5f97146",
       "value": "2012-08-21"
      }
     },
     "41563f6ce8154351876a0ba8c43db5ac": {
      "model_module": "@jupyter-widgets/base",
      "model_module_version": "1.2.0",
      "model_name": "LayoutModel",
      "state": {}
     },
     "4752c896e95d4078b1c131b47a535466": {
      "model_module": "@jupyter-widgets/base",
      "model_module_version": "1.2.0",
      "model_name": "LayoutModel",
      "state": {}
     },
     "4b4a32ce440a438a8d8727250e2953c9": {
      "model_module": "@jupyter-widgets/base",
      "model_module_version": "1.2.0",
      "model_name": "LayoutModel",
      "state": {}
     },
     "4c722602290445989619c9670701a446": {
      "model_module": "@jupyter-widgets/controls",
      "model_module_version": "1.5.0",
      "model_name": "IntSliderModel",
      "state": {
       "description": "ping nr",
       "layout": "IPY_MODEL_37422911d0dc41b9acef2e39910e4afa",
       "max": 147,
       "style": "IPY_MODEL_aa098a6ae21a47388f3ebcac1917e457"
      }
     },
     "4c7b3aa19c4b4722ba20fe30f1587974": {
      "model_module": "@jupyter-widgets/controls",
      "model_module_version": "1.5.0",
      "model_name": "DescriptionStyleModel",
      "state": {
       "description_width": ""
      }
     },
     "4d2cb7959ea54056a3d594ea5d0c20cb": {
      "model_module": "@jupyter-widgets/base",
      "model_module_version": "1.2.0",
      "model_name": "LayoutModel",
      "state": {}
     },
     "4da400c9835741469d912e7301c9c127": {
      "model_module": "@jupyter-widgets/base",
      "model_module_version": "1.2.0",
      "model_name": "LayoutModel",
      "state": {
       "width": "15%"
      }
     },
     "4e6abb80bde0457c831b6788f4f4c20f": {
      "model_module": "@jupyter-widgets/controls",
      "model_module_version": "1.5.0",
      "model_name": "DescriptionStyleModel",
      "state": {
       "description_width": ""
      }
     },
     "50653ff5ebef4a4583db7e3846a34d9e": {
      "model_module": "@jupyter-widgets/controls",
      "model_module_version": "1.5.0",
      "model_name": "DescriptionStyleModel",
      "state": {
       "description_width": ""
      }
     },
     "506d6101b9b34f258790c8fa0f5097a3": {
      "model_module": "@jupyter-widgets/controls",
      "model_module_version": "1.5.0",
      "model_name": "VBoxModel",
      "state": {
       "children": [
        "IPY_MODEL_bb646c435fdc40c683cb3a65e87ce1a3",
        "IPY_MODEL_cc89240194654e6e94add165e0bd3a83",
        "IPY_MODEL_079dc86329d84dbc9f8799cc167dba96",
        "IPY_MODEL_6b32fbe8a5354a038b81581862a4043d",
        "IPY_MODEL_18d70d422d074539acdd0fd57079e00e",
        "IPY_MODEL_0819dd741bef4ac7afe4babc748ef01c"
       ],
       "layout": "IPY_MODEL_5c94b94c34314a27898948c418f3bb2e"
      }
     },
     "512e7186430343639530675b279dea8e": {
      "model_module": "@jupyter-widgets/controls",
      "model_module_version": "1.5.0",
      "model_name": "FloatSliderModel",
      "state": {
       "description": "vmin",
       "layout": "IPY_MODEL_ad46cd0a1e724787a8394f3caccf8440",
       "min": -150,
       "step": 5,
       "style": "IPY_MODEL_8fa8788547224e5188dc6222a40281ec",
       "value": -90
      }
     },
     "517e5c7172314483b168f3a09229f40c": {
      "model_module": "@jupyter-widgets/base",
      "model_module_version": "1.2.0",
      "model_name": "LayoutModel",
      "state": {}
     },
     "55641cf5ec4042afaf4deb2e494391cc": {
      "model_module": "jupyter-matplotlib",
      "model_module_version": "^0.11",
      "model_name": "ToolbarModel",
      "state": {
       "_model_module_version": "^0.11",
       "_view_module_version": "^0.11",
       "collapsed": true,
       "layout": "IPY_MODEL_d9913c36e82c4e7c9780d2493851baf0",
       "orientation": "vertical",
       "toolitems": [
        [
         "Home",
         "Reset original view",
         "home",
         "home"
        ],
        [
         "Back",
         "Back to previous view",
         "arrow-left",
         "back"
        ],
        [
         "Forward",
         "Forward to next view",
         "arrow-right",
         "forward"
        ],
        [
         "Pan",
         "Left button pans, Right button zooms\nx/y fixes axis, CTRL fixes aspect",
         "arrows",
         "pan"
        ],
        [
         "Zoom",
         "Zoom to rectangle\nx/y fixes axis",
         "square-o",
         "zoom"
        ],
        [
         "Download",
         "Download plot",
         "floppy-o",
         "save_figure"
        ]
       ]
      }
     },
     "56c4b38d93db4e71aeb3c946bd70a568": {
      "model_module": "@jupyter-widgets/controls",
      "model_module_version": "1.5.0",
      "model_name": "HBoxModel",
      "state": {
       "children": [
        "IPY_MODEL_707862c6af424324a6aeb89f97e60c97",
        "IPY_MODEL_ce9b77fee38b4322aff4f8d7f0fa7e8d",
        "IPY_MODEL_8760677fefff49c79e134a12cd99aa6f",
        "IPY_MODEL_71f60bbed7e7434f99d7fd85792132e9",
        "IPY_MODEL_f882b5cd4de14e41bc7ad417d546b16f"
       ],
       "layout": "IPY_MODEL_a7c97e3a051a40e68be7c2d41712e6a1"
      }
     },
     "57d1157863fc45c49de40c3dd4dd607e": {
      "model_module": "@jupyter-widgets/controls",
      "model_module_version": "1.5.0",
      "model_name": "ProgressStyleModel",
      "state": {
       "description_width": ""
      }
     },
     "5ada512d9df744a4b88c78772809fba7": {
      "model_module": "@jupyter-widgets/base",
      "model_module_version": "1.2.0",
      "model_name": "LayoutModel",
      "state": {}
     },
     "5b185952b731455fbf4e7f1d0c8690c0": {
      "model_module": "@jupyter-widgets/controls",
      "model_module_version": "1.5.0",
      "model_name": "DescriptionStyleModel",
      "state": {
       "description_width": ""
      }
     },
     "5b5529c02a34467ca70db09a508e6645": {
      "model_module": "@jupyter-widgets/controls",
      "model_module_version": "1.5.0",
      "model_name": "IntTextModel",
      "state": {
       "description": "stack:",
       "layout": "IPY_MODEL_7a0dbb40c1e248a5867fd473c30cc8a9",
       "step": 1,
       "style": "IPY_MODEL_50653ff5ebef4a4583db7e3846a34d9e",
       "value": 1
      }
     },
     "5c4780f100c84df48099d38ad67f183c": {
      "model_module": "@jupyter-widgets/base",
      "model_module_version": "1.2.0",
      "model_name": "LayoutModel",
      "state": {}
     },
     "5c94b94c34314a27898948c418f3bb2e": {
      "model_module": "@jupyter-widgets/base",
      "model_module_version": "1.2.0",
      "model_name": "LayoutModel",
      "state": {}
     },
     "5eef5a3324e64a31a3c4e547c2e07971": {
      "model_module": "@jupyter-widgets/controls",
      "model_module_version": "1.5.0",
      "model_name": "HBoxModel",
      "state": {
       "children": [
        "IPY_MODEL_ae0b9034f9f048d1bfa7ba0490f586b5",
        "IPY_MODEL_20fe5bf251314a44af3fc0c92ede9011",
        "IPY_MODEL_a2cc98e17611498ea8f4b7cb5ce9febc",
        "IPY_MODEL_a0525eb7a29b421e8bf3b2991fbbb12d"
       ],
       "layout": "IPY_MODEL_4027c86f4ef04501bf4202109641be7a"
      }
     },
     "62b5722a1231467ebc3a619e01b1a0c2": {
      "model_module": "@jupyter-widgets/controls",
      "model_module_version": "1.5.0",
      "model_name": "DescriptionStyleModel",
      "state": {
       "description_width": ""
      }
     },
     "64ff1fd568b34d57a106362ea3dbb57f": {
      "model_module": "@jupyter-widgets/base",
      "model_module_version": "1.2.0",
      "model_name": "LayoutModel",
      "state": {}
     },
     "65cee90aaeab4f058c35fca82791af81": {
      "model_module": "@jupyter-widgets/base",
      "model_module_version": "1.2.0",
      "model_name": "LayoutModel",
      "state": {}
     },
     "69508b8a859347fdb98b63a0ce35e251": {
      "model_module": "@jupyter-widgets/base",
      "model_module_version": "1.2.0",
      "model_name": "LayoutModel",
      "state": {}
     },
     "6b32fbe8a5354a038b81581862a4043d": {
      "model_module": "@jupyter-widgets/controls",
      "model_module_version": "1.5.0",
      "model_name": "HBoxModel",
      "state": {
       "children": [
        "IPY_MODEL_faf91ab243e94f8884542e2b9d156211",
        "IPY_MODEL_e8aa5188f54c497fb24a067fe6005990",
        "IPY_MODEL_c1a52ff5268d4c6695602ea071a52124",
        "IPY_MODEL_95c99101c19e4b65b6a084fe8f812516"
       ],
       "layout": "IPY_MODEL_9236994471384489973d7e959ad511d3"
      }
     },
     "6c837f1c00cf4a30bba09843e49b0fe5": {
      "model_module": "@jupyter-widgets/controls",
      "model_module_version": "1.5.0",
      "model_name": "DescriptionStyleModel",
      "state": {
       "description_width": ""
      }
     },
     "6ca4db03e51d4e348f39d0cba9f4619b": {
      "model_module": "@jupyter-widgets/base",
      "model_module_version": "1.2.0",
      "model_name": "LayoutModel",
      "state": {}
     },
     "707862c6af424324a6aeb89f97e60c97": {
      "model_module": "@jupyter-widgets/controls",
      "model_module_version": "1.5.0",
      "model_name": "IntProgressModel",
      "state": {
       "description": "Idle",
       "layout": "IPY_MODEL_4752c896e95d4078b1c131b47a535466",
       "max": 10,
       "style": "IPY_MODEL_1b56fa48bedc43809caa3b883765c664"
      }
     },
     "71f60bbed7e7434f99d7fd85792132e9": {
      "model_module": "@jupyter-widgets/controls",
      "model_module_version": "1.5.0",
      "model_name": "TextModel",
      "state": {
       "description": "proc time",
       "layout": "IPY_MODEL_41563f6ce8154351876a0ba8c43db5ac",
       "style": "IPY_MODEL_c0cda54c9680420c8ec8df3c5a03eb3d",
       "value": "0.012 / 0.114 / [0.126] s"
      }
     },
     "779eff28e44049bb965f95a7de462a39": {
      "model_module": "@jupyter-widgets/base",
      "model_module_version": "1.2.0",
      "model_name": "LayoutModel",
      "state": {
       "width": "15%"
      }
     },
     "7a0dbb40c1e248a5867fd473c30cc8a9": {
      "model_module": "@jupyter-widgets/base",
      "model_module_version": "1.2.0",
      "model_name": "LayoutModel",
      "state": {
       "width": "15%"
      }
     },
     "7a8debfb13d14571b9f66bc5bc525388": {
      "model_module": "@jupyter-widgets/base",
      "model_module_version": "1.2.0",
      "model_name": "LayoutModel",
      "state": {}
     },
     "7d5c6e7d569146f6ab5488872fc8242b": {
      "model_module": "jupyter-matplotlib",
      "model_module_version": "^0.11",
      "model_name": "ToolbarModel",
      "state": {
       "_model_module_version": "^0.11",
       "_view_module_version": "^0.11",
       "collapsed": true,
       "layout": "IPY_MODEL_af2e1b6f5fa24c31b94a8d2228d31d27",
       "orientation": "vertical",
       "toolitems": [
        [
         "Home",
         "Reset original view",
         "home",
         "home"
        ],
        [
         "Back",
         "Back to previous view",
         "arrow-left",
         "back"
        ],
        [
         "Forward",
         "Forward to next view",
         "arrow-right",
         "forward"
        ],
        [
         "Pan",
         "Left button pans, Right button zooms\nx/y fixes axis, CTRL fixes aspect",
         "arrows",
         "pan"
        ],
        [
         "Zoom",
         "Zoom to rectangle\nx/y fixes axis",
         "square-o",
         "zoom"
        ],
        [
         "Download",
         "Download plot",
         "floppy-o",
         "save_figure"
        ]
       ]
      }
     },
     "7d5e6dc576534f8f8d4e3997845d60ae": {
      "model_module": "@jupyter-widgets/controls",
      "model_module_version": "1.5.0",
      "model_name": "DescriptionStyleModel",
      "state": {
       "description_width": ""
      }
     },
     "7f502dd9c136443a8ce2943061a22abe": {
      "model_module": "@jupyter-widgets/base",
      "model_module_version": "1.2.0",
      "model_name": "LayoutModel",
      "state": {}
     },
     "83015d2b6a314c36a46f0237fedfc7ea": {
      "model_module": "@jupyter-widgets/controls",
      "model_module_version": "1.5.0",
      "model_name": "DescriptionStyleModel",
      "state": {
       "description_width": ""
      }
     },
     "83b6aedc5b9349359e24a69d06bae75a": {
      "model_module": "@jupyter-widgets/controls",
      "model_module_version": "1.5.0",
      "model_name": "DescriptionStyleModel",
      "state": {
       "description_width": ""
      }
     },
     "854e1a6b97994ecb9e8de4e632f92c90": {
      "model_module": "@jupyter-widgets/controls",
      "model_module_version": "1.5.0",
      "model_name": "CheckboxModel",
      "state": {
       "description": "stack_linear",
       "disabled": false,
       "layout": "IPY_MODEL_8d61edeb54354b18812aa7b188661248",
       "style": "IPY_MODEL_c54be795792e4aaf841168e3c13ef2d4",
       "value": true
      }
     },
     "8760677fefff49c79e134a12cd99aa6f": {
      "model_module": "@jupyter-widgets/controls",
      "model_module_version": "1.5.0",
      "model_name": "ButtonModel",
      "state": {
       "description": "unfix x/y",
       "layout": "IPY_MODEL_d97fd142db714a66912d5a746f012ea3",
       "style": "IPY_MODEL_9d882a3620314a9683c9772fe75c32ce"
      }
     },
     "88941a3da9974c5f9d71ca19933f196b": {
      "model_module": "@jupyter-widgets/controls",
      "model_module_version": "1.5.0",
      "model_name": "DescriptionStyleModel",
      "state": {
       "description_width": ""
      }
     },
     "8ae240f6c8554606996fe462e3c0f8b0": {
      "model_module": "@jupyter-widgets/base",
      "model_module_version": "1.2.0",
      "model_name": "LayoutModel",
      "state": {}
     },
     "8bb7934f18cf44ea9434ed1fe599bc65": {
      "model_module": "@jupyter-widgets/controls",
      "model_module_version": "1.5.0",
      "model_name": "DescriptionStyleModel",
      "state": {
       "description_width": ""
      }
     },
     "8c8acdcd29e14f04ae87ca75a42db332": {
      "model_module": "@jupyter-widgets/controls",
      "model_module_version": "1.5.0",
      "model_name": "SliderStyleModel",
      "state": {
       "description_width": ""
      }
     },
     "8d30aededf034173acdab885c17034f8": {
      "model_module": "@jupyter-widgets/controls",
      "model_module_version": "1.5.0",
      "model_name": "DescriptionStyleModel",
      "state": {
       "description_width": ""
      }
     },
     "8d3c0bf657b54c03b423150279d7d45e": {
      "model_module": "@jupyter-widgets/output",
      "model_module_version": "1.0.0",
      "model_name": "OutputModel",
      "state": {
       "layout": "IPY_MODEL_4b4a32ce440a438a8d8727250e2953c9"
      }
     },
     "8d61edeb54354b18812aa7b188661248": {
      "model_module": "@jupyter-widgets/base",
      "model_module_version": "1.2.0",
      "model_name": "LayoutModel",
      "state": {}
     },
     "8ee3cce107d94549b541f1cb55de43f4": {
      "model_module": "@jupyter-widgets/controls",
      "model_module_version": "1.5.0",
      "model_name": "IntSliderModel",
      "state": {
       "description": "horizontal pixels",
       "layout": "IPY_MODEL_7f502dd9c136443a8ce2943061a22abe",
       "max": 2048,
       "min": 2,
       "style": "IPY_MODEL_8c8acdcd29e14f04ae87ca75a42db332",
       "value": 1024
      }
     },
     "8fa8788547224e5188dc6222a40281ec": {
      "model_module": "@jupyter-widgets/controls",
      "model_module_version": "1.5.0",
      "model_name": "SliderStyleModel",
      "state": {
       "description_width": ""
      }
     },
     "9236994471384489973d7e959ad511d3": {
      "model_module": "@jupyter-widgets/base",
      "model_module_version": "1.2.0",
      "model_name": "LayoutModel",
      "state": {}
     },
     "95c99101c19e4b65b6a084fe8f812516": {
      "model_module": "@jupyter-widgets/controls",
      "model_module_version": "1.5.0",
      "model_name": "DropdownModel",
      "state": {
       "_options_labels": [
        "antialiased",
        "none",
        "nearest",
        "bilinear",
        "bicubic",
        "spline16",
        "spline36",
        "hanning",
        "hamming",
        "hermite",
        "kaiser",
        "quadric",
        "catrom",
        "gaussian",
        "bessel",
        "mitchell",
        "sinc",
        "lanczos",
        "blackman"
       ],
       "description": "interpolation",
       "index": 2,
       "layout": "IPY_MODEL_c0dc2b10dceb4240bdd44e33c4f7a884",
       "style": "IPY_MODEL_f9bc44252d4d4b2f8c4a1feaa4f29dcc"
      }
     },
     "9a4bcbfab7ba4c96a013f8a5b26ad363": {
      "model_module": "@jupyter-widgets/controls",
      "model_module_version": "1.5.0",
      "model_name": "HTMLModel",
      "state": {
       "layout": "IPY_MODEL_ba9d1295ee574090bbfebca022087ee1",
       "style": "IPY_MODEL_07a115f84fdf48c2b5676a2775ed683c",
       "value": " 18/18 [00:00&lt;00:00, 7811.43it/s]"
      }
     },
     "9d882a3620314a9683c9772fe75c32ce": {
      "model_module": "@jupyter-widgets/controls",
      "model_module_version": "1.5.0",
      "model_name": "ButtonStyleModel",
      "state": {}
     },
     "a0525eb7a29b421e8bf3b2991fbbb12d": {
      "model_module": "@jupyter-widgets/controls",
      "model_module_version": "1.5.0",
      "model_name": "IntSliderModel",
      "state": {
       "description": "horizontal pixels",
       "layout": "IPY_MODEL_d289ea64a4ae4d2f8949eeb79004f4b2",
       "max": 2048,
       "min": 2,
       "style": "IPY_MODEL_c3f6541825534088b3907a2dc8b328cd",
       "value": 1024
      }
     },
     "a2054b0e1690458f83f3e0a3b801523a": {
      "model_module": "@jupyter-widgets/controls",
      "model_module_version": "1.5.0",
      "model_name": "DropdownModel",
      "state": {
       "_options_labels": [
        "antialiased",
        "none",
        "nearest",
        "bilinear",
        "bicubic",
        "spline16",
        "spline36",
        "hanning",
        "hamming",
        "hermite",
        "kaiser",
        "quadric",
        "catrom",
        "gaussian",
        "bessel",
        "mitchell",
        "sinc",
        "lanczos",
        "blackman"
       ],
       "description": "interpolation",
       "index": 2,
       "layout": "IPY_MODEL_17f64a723db34fc0b88de8884b876c3e",
       "style": "IPY_MODEL_401844f47c234e2fb44ff793d0d04af2"
      }
     },
     "a2cc98e17611498ea8f4b7cb5ce9febc": {
      "model_module": "@jupyter-widgets/controls",
      "model_module_version": "1.5.0",
      "model_name": "DropdownModel",
      "state": {
       "_options_labels": [
        "linear",
        "beamsample"
       ],
       "description": "wci render",
       "index": 0,
       "layout": "IPY_MODEL_e4a97b732b734525852a49e430bbfeb3",
       "style": "IPY_MODEL_c9e572e24077413b9a5cfdf38f1aea61"
      }
     },
     "a302f1af663347f6a8f6942c9691272a": {
      "model_module": "@jupyter-widgets/controls",
      "model_module_version": "1.5.0",
      "model_name": "ButtonModel",
      "state": {
       "button_style": "warning",
       "description": "fix x/y",
       "layout": "IPY_MODEL_b4b9d46ce79b4d3ab255e7fdd0155831",
       "style": "IPY_MODEL_d8113099c53849f3832f6e3690a1f42d"
      }
     },
     "a30c225430ca4c539e13f346d5cbbc21": {
      "model_module": "@jupyter-widgets/controls",
      "model_module_version": "1.5.0",
      "model_name": "DropdownModel",
      "state": {
       "_options_labels": [
        "auto",
        "equal"
       ],
       "description": "aspect",
       "index": 1,
       "layout": "IPY_MODEL_c8b039ac69cb494e98c2c04f53221fa7",
       "style": "IPY_MODEL_0377f68fb9174223a2c29a14392db09c"
      }
     },
     "a36212ad1334498f8fc3f0e84fb7ddc1": {
      "model_module": "@jupyter-widgets/controls",
      "model_module_version": "1.5.0",
      "model_name": "ButtonModel",
      "state": {
       "description": "unfix x/y",
       "layout": "IPY_MODEL_5ada512d9df744a4b88c78772809fba7",
       "style": "IPY_MODEL_189f7c37f5d6424e95a4feda6214da7f"
      }
     },
     "a45e4103bc6241d4b10eeb324659ace9": {
      "model_module": "@jupyter-widgets/controls",
      "model_module_version": "1.5.0",
      "model_name": "DescriptionStyleModel",
      "state": {
       "description_width": ""
      }
     },
     "a7c97e3a051a40e68be7c2d41712e6a1": {
      "model_module": "@jupyter-widgets/base",
      "model_module_version": "1.2.0",
      "model_name": "LayoutModel",
      "state": {}
     },
     "a8cd4e56c8ce44babdf56fe9e825e914": {
      "model_module": "@jupyter-widgets/base",
      "model_module_version": "1.2.0",
      "model_name": "LayoutModel",
      "state": {}
     },
     "aa098a6ae21a47388f3ebcac1917e457": {
      "model_module": "@jupyter-widgets/controls",
      "model_module_version": "1.5.0",
      "model_name": "SliderStyleModel",
      "state": {
       "description_width": ""
      }
     },
     "ad46cd0a1e724787a8394f3caccf8440": {
      "model_module": "@jupyter-widgets/base",
      "model_module_version": "1.2.0",
      "model_name": "LayoutModel",
      "state": {}
     },
     "ae0b9034f9f048d1bfa7ba0490f586b5": {
      "model_module": "@jupyter-widgets/controls",
      "model_module_version": "1.5.0",
      "model_name": "CheckboxModel",
      "state": {
       "description": "stack_linear",
       "disabled": false,
       "layout": "IPY_MODEL_d926480766654291bf307688b9439d5a",
       "style": "IPY_MODEL_88941a3da9974c5f9d71ca19933f196b",
       "value": true
      }
     },
     "ae67e0a2e32a452fbb3a4ce502e66bae": {
      "model_module": "@jupyter-widgets/controls",
      "model_module_version": "1.5.0",
      "model_name": "TextModel",
      "state": {
       "layout": "IPY_MODEL_2776a39b0c3a4f16a57bed158bc91896",
       "style": "IPY_MODEL_d2bbb56d43ec46dfa986436a00d5214f",
       "value": "17:09:42"
      }
     },
     "af2e1b6f5fa24c31b94a8d2228d31d27": {
      "model_module": "@jupyter-widgets/base",
      "model_module_version": "1.2.0",
      "model_name": "LayoutModel",
      "state": {}
     },
     "b32c5a97eaf443538048962ce18bfb7f": {
      "model_module": "@jupyter-widgets/base",
      "model_module_version": "1.2.0",
      "model_name": "LayoutModel",
      "state": {}
     },
     "b4b9d46ce79b4d3ab255e7fdd0155831": {
      "model_module": "@jupyter-widgets/base",
      "model_module_version": "1.2.0",
      "model_name": "LayoutModel",
      "state": {}
     },
     "b63399aa249949dead531130eb5d03a4": {
      "model_module": "@jupyter-widgets/controls",
      "model_module_version": "1.5.0",
      "model_name": "SliderStyleModel",
      "state": {
       "description_width": ""
      }
     },
     "b7145ac2ca6845839c55e411df3d5acb": {
      "model_module": "@jupyter-widgets/controls",
      "model_module_version": "1.5.0",
      "model_name": "HBoxModel",
      "state": {
       "children": [
        "IPY_MODEL_20f29525a1eb4d7ba6dd64fe91697a0e",
        "IPY_MODEL_410b3c6bfc6447cbbaa5e0aec992eb28",
        "IPY_MODEL_10d25cf2d901423a8231cee8876f5556",
        "IPY_MODEL_fbd478fa7cfd49568238badf1b2fff63",
        "IPY_MODEL_38786ffb316547c7aad590b9e530dd27",
        "IPY_MODEL_c928877cdadd463cb517338b6ced92da"
       ],
       "layout": "IPY_MODEL_8ae240f6c8554606996fe462e3c0f8b0"
      }
     },
     "b87a6ee67fcd4cce97f35fd3be4b765d": {
      "model_module": "@jupyter-widgets/base",
      "model_module_version": "1.2.0",
      "model_name": "LayoutModel",
      "state": {}
     },
     "b9d851802edf425e9faee90840414f60": {
      "model_module": "@jupyter-widgets/controls",
      "model_module_version": "1.5.0",
      "model_name": "TextModel",
      "state": {
       "description": "proc time",
       "layout": "IPY_MODEL_3fe9596b4e004b14b7901ce8978a4fc8",
       "style": "IPY_MODEL_6c837f1c00cf4a30bba09843e49b0fe5",
       "value": "0.014 / 0.118 / [0.132] s"
      }
     },
     "ba9d1295ee574090bbfebca022087ee1": {
      "model_module": "@jupyter-widgets/base",
      "model_module_version": "1.2.0",
      "model_name": "LayoutModel",
      "state": {}
     },
     "bb646c435fdc40c683cb3a65e87ce1a3": {
      "model_module": "jupyter-matplotlib",
      "model_module_version": "^0.11",
      "model_name": "MPLCanvasModel",
      "state": {
       "_cursor": "default",
       "_data_url": "data:image/png;base64,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",
       "_figure_label": "WCI",
       "_model_module_version": "^0.11",
       "_size": [
        1000,
        400
       ],
       "_view_module_version": "^0.11",
       "layout": "IPY_MODEL_b87a6ee67fcd4cce97f35fd3be4b765d",
       "toolbar": "IPY_MODEL_55641cf5ec4042afaf4deb2e494391cc",
       "toolbar_position": "left"
      }
     },
     "bdadbff19299480fa2192637c3e7757c": {
      "model_module": "@jupyter-widgets/base",
      "model_module_version": "1.2.0",
      "model_name": "LayoutModel",
      "state": {}
     },
     "bfb65224e371416c9233cade9dec1a7f": {
      "model_module": "@jupyter-widgets/base",
      "model_module_version": "1.2.0",
      "model_name": "LayoutModel",
      "state": {
       "width": "50%"
      }
     },
     "c0cda54c9680420c8ec8df3c5a03eb3d": {
      "model_module": "@jupyter-widgets/controls",
      "model_module_version": "1.5.0",
      "model_name": "DescriptionStyleModel",
      "state": {
       "description_width": ""
      }
     },
     "c0dc2b10dceb4240bdd44e33c4f7a884": {
      "model_module": "@jupyter-widgets/base",
      "model_module_version": "1.2.0",
      "model_name": "LayoutModel",
      "state": {}
     },
     "c147648fca7e4b1ca82d7a505ed477a3": {
      "model_module": "@jupyter-widgets/base",
      "model_module_version": "1.2.0",
      "model_name": "LayoutModel",
      "state": {
       "width": "15%"
      }
     },
     "c1a52ff5268d4c6695602ea071a52124": {
      "model_module": "@jupyter-widgets/controls",
      "model_module_version": "1.5.0",
      "model_name": "DropdownModel",
      "state": {
       "_options_labels": [
        "auto",
        "equal"
       ],
       "description": "aspect",
       "index": 1,
       "layout": "IPY_MODEL_64ff1fd568b34d57a106362ea3dbb57f",
       "style": "IPY_MODEL_d2076672481744a597bae407deae7db4"
      }
     },
     "c1d2c71cc9bb4617ac259bdd5fd7954b": {
      "model_module": "@jupyter-widgets/controls",
      "model_module_version": "1.5.0",
      "model_name": "FloatSliderModel",
      "state": {
       "description": "vmax",
       "layout": "IPY_MODEL_6ca4db03e51d4e348f39d0cba9f4619b",
       "min": -150,
       "step": 5,
       "style": "IPY_MODEL_3e88300af0434cd7b0a8c5bc88034fee",
       "value": -25
      }
     },
     "c3f6541825534088b3907a2dc8b328cd": {
      "model_module": "@jupyter-widgets/controls",
      "model_module_version": "1.5.0",
      "model_name": "SliderStyleModel",
      "state": {
       "description_width": ""
      }
     },
     "c5089dc5a5ca404ca5ed2e6778271366": {
      "model_module": "@jupyter-widgets/controls",
      "model_module_version": "1.5.0",
      "model_name": "SliderStyleModel",
      "state": {
       "description_width": ""
      }
     },
     "c54be795792e4aaf841168e3c13ef2d4": {
      "model_module": "@jupyter-widgets/controls",
      "model_module_version": "1.5.0",
      "model_name": "DescriptionStyleModel",
      "state": {
       "description_width": ""
      }
     },
     "c79fda5007974ed9be7e36268de3047d": {
      "model_module": "@jupyter-widgets/base",
      "model_module_version": "1.2.0",
      "model_name": "LayoutModel",
      "state": {}
     },
     "c857af1f45564e91822b71a8677a3025": {
      "model_module": "@jupyter-widgets/base",
      "model_module_version": "1.2.0",
      "model_name": "LayoutModel",
      "state": {}
     },
     "c8b039ac69cb494e98c2c04f53221fa7": {
      "model_module": "@jupyter-widgets/base",
      "model_module_version": "1.2.0",
      "model_name": "LayoutModel",
      "state": {}
     },
     "c928877cdadd463cb517338b6ced92da": {
      "model_module": "@jupyter-widgets/controls",
      "model_module_version": "1.5.0",
      "model_name": "IntTextModel",
      "state": {
       "description": "mp_cores:",
       "layout": "IPY_MODEL_779eff28e44049bb965f95a7de462a39",
       "step": 1,
       "style": "IPY_MODEL_83015d2b6a314c36a46f0237fedfc7ea",
       "value": 1
      }
     },
     "c95c4fa5ce674185bff7f4941454fa38": {
      "model_module": "@jupyter-widgets/controls",
      "model_module_version": "1.5.0",
      "model_name": "ButtonStyleModel",
      "state": {}
     },
     "c9e572e24077413b9a5cfdf38f1aea61": {
      "model_module": "@jupyter-widgets/controls",
      "model_module_version": "1.5.0",
      "model_name": "DescriptionStyleModel",
      "state": {
       "description_width": ""
      }
     },
     "cc89240194654e6e94add165e0bd3a83": {
      "model_module": "@jupyter-widgets/controls",
      "model_module_version": "1.5.0",
      "model_name": "HBoxModel",
      "state": {
       "children": [
        "IPY_MODEL_1fba28b707f543f68dfb113e11e822fb",
        "IPY_MODEL_a302f1af663347f6a8f6942c9691272a",
        "IPY_MODEL_a36212ad1334498f8fc3f0e84fb7ddc1",
        "IPY_MODEL_b9d851802edf425e9faee90840414f60",
        "IPY_MODEL_dae2f157a17a460181b32d12940df2a9"
       ],
       "layout": "IPY_MODEL_bdadbff19299480fa2192637c3e7757c"
      }
     },
     "ce9b77fee38b4322aff4f8d7f0fa7e8d": {
      "model_module": "@jupyter-widgets/controls",
      "model_module_version": "1.5.0",
      "model_name": "ButtonModel",
      "state": {
       "button_style": "warning",
       "description": "fix x/y",
       "layout": "IPY_MODEL_b32c5a97eaf443538048962ce18bfb7f",
       "style": "IPY_MODEL_c95c4fa5ce674185bff7f4941454fa38"
      }
     },
     "cf0700168837414f9ffed2fed577c5b5": {
      "model_module": "@jupyter-widgets/controls",
      "model_module_version": "1.5.0",
      "model_name": "DescriptionStyleModel",
      "state": {
       "description_width": ""
      }
     },
     "d15fc6d59fda4a67af9505739d1bc637": {
      "model_module": "@jupyter-widgets/base",
      "model_module_version": "1.2.0",
      "model_name": "LayoutModel",
      "state": {}
     },
     "d2076672481744a597bae407deae7db4": {
      "model_module": "@jupyter-widgets/controls",
      "model_module_version": "1.5.0",
      "model_name": "DescriptionStyleModel",
      "state": {
       "description_width": ""
      }
     },
     "d289ea64a4ae4d2f8949eeb79004f4b2": {
      "model_module": "@jupyter-widgets/base",
      "model_module_version": "1.2.0",
      "model_name": "LayoutModel",
      "state": {}
     },
     "d2bbb56d43ec46dfa986436a00d5214f": {
      "model_module": "@jupyter-widgets/controls",
      "model_module_version": "1.5.0",
      "model_name": "DescriptionStyleModel",
      "state": {
       "description_width": ""
      }
     },
     "d74bf91bde1f4117b1acfbd4a8170fde": {
      "model_module": "@jupyter-widgets/controls",
      "model_module_version": "1.5.0",
      "model_name": "FloatProgressModel",
      "state": {
       "bar_style": "success",
       "layout": "IPY_MODEL_f511ef7695f748cb8b1c0b02938c8bdc",
       "max": 18,
       "style": "IPY_MODEL_57d1157863fc45c49de40c3dd4dd607e",
       "value": 18
      }
     },
     "d8113099c53849f3832f6e3690a1f42d": {
      "model_module": "@jupyter-widgets/controls",
      "model_module_version": "1.5.0",
      "model_name": "ButtonStyleModel",
      "state": {}
     },
     "d926480766654291bf307688b9439d5a": {
      "model_module": "@jupyter-widgets/base",
      "model_module_version": "1.2.0",
      "model_name": "LayoutModel",
      "state": {}
     },
     "d97fd142db714a66912d5a746f012ea3": {
      "model_module": "@jupyter-widgets/base",
      "model_module_version": "1.2.0",
      "model_name": "LayoutModel",
      "state": {}
     },
     "d9913c36e82c4e7c9780d2493851baf0": {
      "model_module": "@jupyter-widgets/base",
      "model_module_version": "1.2.0",
      "model_name": "LayoutModel",
      "state": {}
     },
     "dae2f157a17a460181b32d12940df2a9": {
      "model_module": "@jupyter-widgets/controls",
      "model_module_version": "1.5.0",
      "model_name": "TextModel",
      "state": {
       "description": "proc rate",
       "layout": "IPY_MODEL_d15fc6d59fda4a67af9505739d1bc637",
       "style": "IPY_MODEL_4e6abb80bde0457c831b6788f4f4c20f",
       "value": "72.5 / 8.4 / [7.6] Hz"
      }
     },
     "db6602ea737e46b593c3bdcc7f6f4820": {
      "model_module": "@jupyter-widgets/base",
      "model_module_version": "1.2.0",
      "model_name": "LayoutModel",
      "state": {}
     },
     "de6e5fca6fa64f0b9516c0fdaa534128": {
      "model_module": "@jupyter-widgets/controls",
      "model_module_version": "1.5.0",
      "model_name": "SliderStyleModel",
      "state": {
       "description_width": ""
      }
     },
     "e2d6a54b2bd24bdaa3b523f2730ed196": {
      "model_module": "@jupyter-widgets/controls",
      "model_module_version": "1.5.0",
      "model_name": "DropdownModel",
      "state": {
       "_options_labels": [
        "linear",
        "beamsample"
       ],
       "description": "wci render",
       "index": 0,
       "layout": "IPY_MODEL_f7096c3a788349dfa1da6d1a3793d698",
       "style": "IPY_MODEL_3f80ee62d2574495b24462115be3f848"
      }
     },
     "e4a97b732b734525852a49e430bbfeb3": {
      "model_module": "@jupyter-widgets/base",
      "model_module_version": "1.2.0",
      "model_name": "LayoutModel",
      "state": {}
     },
     "e4b6ed97814f4c588d60ac91933ef797": {
      "model_module": "@jupyter-widgets/base",
      "model_module_version": "1.2.0",
      "model_name": "LayoutModel",
      "state": {}
     },
     "e4effb50c68d467792e1307f8ebb2990": {
      "model_module": "@jupyter-widgets/controls",
      "model_module_version": "1.5.0",
      "model_name": "VBoxModel",
      "state": {
       "children": [
        "IPY_MODEL_19f8b1e0e98f4e59ae7b38035fb8a66c",
        "IPY_MODEL_56c4b38d93db4e71aeb3c946bd70a568",
        "IPY_MODEL_5eef5a3324e64a31a3c4e547c2e07971",
        "IPY_MODEL_fe3575e1a78f464e90ad70aca31cd086",
        "IPY_MODEL_b7145ac2ca6845839c55e411df3d5acb",
        "IPY_MODEL_8d3c0bf657b54c03b423150279d7d45e"
       ],
       "layout": "IPY_MODEL_4d2cb7959ea54056a3d594ea5d0c20cb"
      }
     },
     "e5ed5eae5b49407b80bb428820167f19": {
      "model_module": "@jupyter-widgets/controls",
      "model_module_version": "1.5.0",
      "model_name": "DropdownModel",
      "state": {
       "_options_labels": [
        "sv/av/pv/rv",
        "sv/av/pv",
        "sv/av",
        "sp/ap/pp/rp",
        "sp/ap/pp",
        "sp/ap",
        "power/amp",
        "av",
        "ap",
        "amp",
        "sv",
        "sp",
        "pv",
        "pp",
        "rv",
        "rp",
        "power"
       ],
       "description": "wci value",
       "index": 0,
       "layout": "IPY_MODEL_db6602ea737e46b593c3bdcc7f6f4820",
       "style": "IPY_MODEL_83b6aedc5b9349359e24a69d06bae75a"
      }
     },
     "e7d3f185d3eb4a6b88923a2fcc13bf82": {
      "model_module": "@jupyter-widgets/controls",
      "model_module_version": "1.5.0",
      "model_name": "IntTextModel",
      "state": {
       "description": "mp_cores:",
       "layout": "IPY_MODEL_c147648fca7e4b1ca82d7a505ed477a3",
       "step": 1,
       "style": "IPY_MODEL_4c7b3aa19c4b4722ba20fe30f1587974",
       "value": 1
      }
     },
     "e8aa5188f54c497fb24a067fe6005990": {
      "model_module": "@jupyter-widgets/controls",
      "model_module_version": "1.5.0",
      "model_name": "FloatSliderModel",
      "state": {
       "description": "vmax",
       "layout": "IPY_MODEL_1650d8d23ccc4b0cb5655ba1fce807e3",
       "min": -150,
       "step": 5,
       "style": "IPY_MODEL_c5089dc5a5ca404ca5ed2e6778271366",
       "value": -25
      }
     },
     "e98820b795b34402b23ef83104a2280b": {
      "model_module": "@jupyter-widgets/base",
      "model_module_version": "1.2.0",
      "model_name": "LayoutModel",
      "state": {
       "width": "10%"
      }
     },
     "eda87c1d142a4b909f7c764ccf66407b": {
      "model_module": "@jupyter-widgets/base",
      "model_module_version": "1.2.0",
      "model_name": "LayoutModel",
      "state": {}
     },
     "f0caf967c413496095dd89e0f40bd72f": {
      "model_module": "@jupyter-widgets/controls",
      "model_module_version": "1.5.0",
      "model_name": "ProgressStyleModel",
      "state": {
       "description_width": ""
      }
     },
     "f4ccda51965b421191d0c77b84eca6b9": {
      "model_module": "@jupyter-widgets/controls",
      "model_module_version": "1.5.0",
      "model_name": "HTMLModel",
      "state": {
       "layout": "IPY_MODEL_7a8debfb13d14571b9f66bc5bc525388",
       "style": "IPY_MODEL_cf0700168837414f9ffed2fed577c5b5",
       "value": "removing duplicates: 100%"
      }
     },
     "f511ef7695f748cb8b1c0b02938c8bdc": {
      "model_module": "@jupyter-widgets/base",
      "model_module_version": "1.2.0",
      "model_name": "LayoutModel",
      "state": {}
     },
     "f651edf008bf41059d7470d5294d66bd": {
      "model_module": "@jupyter-widgets/base",
      "model_module_version": "1.2.0",
      "model_name": "LayoutModel",
      "state": {}
     },
     "f7096c3a788349dfa1da6d1a3793d698": {
      "model_module": "@jupyter-widgets/base",
      "model_module_version": "1.2.0",
      "model_name": "LayoutModel",
      "state": {}
     },
     "f882b5cd4de14e41bc7ad417d546b16f": {
      "model_module": "@jupyter-widgets/controls",
      "model_module_version": "1.5.0",
      "model_name": "TextModel",
      "state": {
       "description": "proc rate",
       "layout": "IPY_MODEL_f651edf008bf41059d7470d5294d66bd",
       "style": "IPY_MODEL_7d5e6dc576534f8f8d4e3997845d60ae",
       "value": "82.6 / 8.8 / [8.0] Hz"
      }
     },
     "f9bc44252d4d4b2f8c4a1feaa4f29dcc": {
      "model_module": "@jupyter-widgets/controls",
      "model_module_version": "1.5.0",
      "model_name": "DescriptionStyleModel",
      "state": {
       "description_width": ""
      }
     },
     "faf91ab243e94f8884542e2b9d156211": {
      "model_module": "@jupyter-widgets/controls",
      "model_module_version": "1.5.0",
      "model_name": "FloatSliderModel",
      "state": {
       "description": "vmin",
       "layout": "IPY_MODEL_517e5c7172314483b168f3a09229f40c",
       "min": -150,
       "step": 5,
       "style": "IPY_MODEL_b63399aa249949dead531130eb5d03a4",
       "value": -90
      }
     },
     "fbd478fa7cfd49568238badf1b2fff63": {
      "model_module": "@jupyter-widgets/controls",
      "model_module_version": "1.5.0",
      "model_name": "IntTextModel",
      "state": {
       "description": "stack:",
       "layout": "IPY_MODEL_2abc8f1cb0eb4b8b9e827d64dac2397e",
       "step": 1,
       "style": "IPY_MODEL_5b185952b731455fbf4e7f1d0c8690c0",
       "value": 1
      }
     },
     "fe3575e1a78f464e90ad70aca31cd086": {
      "model_module": "@jupyter-widgets/controls",
      "model_module_version": "1.5.0",
      "model_name": "HBoxModel",
      "state": {
       "children": [
        "IPY_MODEL_512e7186430343639530675b279dea8e",
        "IPY_MODEL_c1d2c71cc9bb4617ac259bdd5fd7954b",
        "IPY_MODEL_a30c225430ca4c539e13f346d5cbbc21",
        "IPY_MODEL_a2054b0e1690458f83f3e0a3b801523a"
       ],
       "layout": "IPY_MODEL_c857af1f45564e91822b71a8677a3025"
      }
     }
    },
    "version_major": 2,
    "version_minor": 0
   }
  }
 },
 "nbformat": 4,
 "nbformat_minor": 4
}
