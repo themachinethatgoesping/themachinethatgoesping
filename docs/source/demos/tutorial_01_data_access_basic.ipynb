{
 "cells": [
  {
   "cell_type": "markdown",
   "metadata": {},
   "source": [
    "# Tutorial 1: Data access core concepts\n",
    "### `themachinethatgoesping` tutorial series\n",
    "\n",
    "`themachinethatgoesping` concepts covered:\n",
    "- Find and list raw data files to process\n",
    "- Create a File Handler object ot access the file data\n",
    "- Access a group of pings with the File Handler\n",
    "- Access data in a ping"
   ]
  },
  {
   "cell_type": "code",
   "execution_count": 1,
   "metadata": {
    "execution": {
     "iopub.execute_input": "2024-11-06T12:15:12.972087Z",
     "iopub.status.busy": "2024-11-06T12:15:12.971984Z",
     "iopub.status.idle": "2024-11-06T12:15:13.500279Z",
     "shell.execute_reply": "2024-11-06T12:15:13.499844Z",
     "shell.execute_reply.started": "2024-11-06T12:15:12.972075Z"
    }
   },
   "outputs": [],
   "source": [
    "%matplotlib widget\n",
    "\n",
    "import numpy as np\n",
    "import themachinethatgoesping as theping\n",
    "from matplotlib import pyplot as plt\n",
    "from tqdm.auto import tqdm"
   ]
  },
  {
   "cell_type": "markdown",
   "metadata": {},
   "source": [
    "### 1. List raw data files with find_files()"
   ]
  },
  {
   "cell_type": "code",
   "execution_count": 2,
   "metadata": {
    "execution": {
     "iopub.execute_input": "2024-11-06T12:15:13.500841Z",
     "iopub.status.busy": "2024-11-06T12:15:13.500654Z",
     "iopub.status.idle": "2024-11-06T12:15:13.508241Z",
     "shell.execute_reply": "2024-11-06T12:15:13.507941Z",
     "shell.execute_reply.started": "2024-11-06T12:15:13.500830Z"
    }
   },
   "outputs": [
    {
     "name": "stdout",
     "output_type": "stream",
     "text": [
      "Found 18 files\n"
     ]
    }
   ],
   "source": [
    "# define a folder to search for raw data files\n",
    "folder = '../unittest_data'\n",
    "\n",
    "# find all Kongsberg files in the list of folders\n",
    "files = theping.echosounders.index_functions.find_files(folder, [\".all\",\"wcd\"])"
   ]
  },
  {
   "cell_type": "code",
   "execution_count": 3,
   "metadata": {
    "execution": {
     "iopub.execute_input": "2024-11-06T12:15:13.509329Z",
     "iopub.status.busy": "2024-11-06T12:15:13.509072Z",
     "iopub.status.idle": "2024-11-06T12:15:13.511101Z",
     "shell.execute_reply": "2024-11-06T12:15:13.510884Z",
     "shell.execute_reply.started": "2024-11-06T12:15:13.509318Z"
    }
   },
   "outputs": [
    {
     "name": "stdout",
     "output_type": "stream",
     "text": [
      "<class 'list'>\n",
      "<class 'str'>\n",
      "../unittest_data/kongsberg/simon/-4564033532462129271.wcd\n"
     ]
    }
   ],
   "source": [
    "# The output of find_files() is a list of file paths, which are strings\n",
    "print(type(files))\n",
    "print(type(files[0]))\n",
    "print(files[0])"
   ]
  },
  {
   "cell_type": "code",
   "execution_count": 4,
   "metadata": {
    "execution": {
     "iopub.execute_input": "2024-11-06T12:15:13.511450Z",
     "iopub.status.busy": "2024-11-06T12:15:13.511358Z",
     "iopub.status.idle": "2024-11-06T12:15:13.516695Z",
     "shell.execute_reply": "2024-11-06T12:15:13.516370Z",
     "shell.execute_reply.started": "2024-11-06T12:15:13.511441Z"
    }
   },
   "outputs": [
    {
     "name": "stdout",
     "output_type": "stream",
     "text": [
      "(0/18) ../unittest_data/kongsberg/a/c/8136328335172073169.all\n",
      "(1/18) ../unittest_data/kongsberg/a/c/8136328335172073169.wcd\n",
      "(2/18) ../unittest_data/kongsberg/a/f/ALL/7940434004712898291.all\n",
      "(3/18) ../unittest_data/kongsberg/a/f/WCD/7940434004712898291.wcd\n",
      "(4/18) ../unittest_data/kongsberg/a/y/-6430362035178526648.all\n",
      "(5/18) ../unittest_data/kongsberg/a/y/-6430362035178526648.wcd\n",
      "(6/18) ../unittest_data/kongsberg/e/5556426203143536656.all\n",
      "(7/18) ../unittest_data/kongsberg/e/6340811117880500921.all\n",
      "(8/18) ../unittest_data/kongsberg/g/-2784638328592650682.all\n",
      "(9/18) ../unittest_data/kongsberg/g/-2784638328592650682.wcd\n",
      "(10/18) ../unittest_data/kongsberg/he/-3740211369500593285.all\n",
      "(11/18) ../unittest_data/kongsberg/he/-3740211369500593285.wcd\n",
      "(12/18) ../unittest_data/kongsberg/simon/-4564033532462129271.all\n",
      "(13/18) ../unittest_data/kongsberg/simon/-4564033532462129271.wcd\n",
      "(14/18) ../unittest_data/kongsberg/turbeams/-7867389334864073581.all\n",
      "(15/18) ../unittest_data/kongsberg/turbeams/-7867389334864073581.wcd\n",
      "(16/18) ../unittest_data/kongsberg/turbeams/-943858047591065953.all\n",
      "(17/18) ../unittest_data/kongsberg/turbeams/-943858047591065953.wcd\n"
     ]
    }
   ],
   "source": [
    "# show files found\n",
    "files.sort()\n",
    "for i, file in enumerate(files):\n",
    "    print(f\"({i}/{len(files)}) {file}\")"
   ]
  },
  {
   "cell_type": "markdown",
   "metadata": {},
   "source": [
    "### 2. Create a File Handler object to access the raw data files"
   ]
  },
  {
   "cell_type": "code",
   "execution_count": 5,
   "metadata": {
    "execution": {
     "iopub.execute_input": "2024-11-06T12:15:13.517230Z",
     "iopub.status.busy": "2024-11-06T12:15:13.517043Z",
     "iopub.status.idle": "2024-11-06T12:15:13.536692Z",
     "shell.execute_reply": "2024-11-06T12:15:13.536416Z",
     "shell.execute_reply.started": "2024-11-06T12:15:13.517218Z"
    }
   },
   "outputs": [
    {
     "name": "stdout",
     "output_type": "stream",
     "text": [
      "indexing files ⠐ 100% [00m:00s<00m:00s] [..6328335172073169.all (1/18)]                               \n",
      "indexing files ⠠ 100% [00m:00s<00m:00s] [..3858047591065953.wcd (18/18)]                                \n",
      "indexing files ⢀ 100% [00m:00s<00m:00s] [Found: 1484 datagrams in 18 files (26MB)]                                          \n",
      "Initializing ping interface ⢀ 90% [00m:00s<00m:00s] [Done]                                              \n"
     ]
    },
    {
     "name": "stderr",
     "output_type": "stream",
     "text": [
      "WARNING: get_depth_sensor_offsets: Only DSH (Depth (pressure) sensor heave) == NI is supported yet, but DSH is IN\n",
      "WARNING: get_depth_sensor_offsets: Only DSH (Depth (pressure) sensor heave) == NI is supported yet, but DSH is IN\n"
     ]
    }
   ],
   "source": [
    "# Create a File Handler to access the raw data files\n",
    "fileHandler = theping.echosounders.kongsbergall.KongsbergAllFileHandler(files)"
   ]
  },
  {
   "cell_type": "code",
   "execution_count": 6,
   "metadata": {
    "execution": {
     "iopub.execute_input": "2024-11-06T12:15:13.537275Z",
     "iopub.status.busy": "2024-11-06T12:15:13.537026Z",
     "iopub.status.idle": "2024-11-06T12:15:13.539669Z",
     "shell.execute_reply": "2024-11-06T12:15:13.539440Z",
     "shell.execute_reply.started": "2024-11-06T12:15:13.537264Z"
    }
   },
   "outputs": [
    {
     "data": {
      "text/plain": [
       "themachinethatgoesping.echosounders_cppy.kongsbergall.KongsbergAllFileHandler"
      ]
     },
     "execution_count": 6,
     "metadata": {},
     "output_type": "execute_result"
    }
   ],
   "source": [
    "# Notes:\n",
    "#   - A File Handler extracts basic information from the files but do not load the acoustic data. It only indexes the datagrams and provides access to them as a combined file stream\n",
    "#   - A file Handler is initalized with the list of files\n",
    "#   - A File Handler pairs .all and .wcd files\n",
    "\n",
    "# See class of a File Hander\n",
    "type(fileHandler)"
   ]
  },
  {
   "cell_type": "code",
   "execution_count": 7,
   "metadata": {
    "execution": {
     "iopub.execute_input": "2024-11-06T12:15:13.540107Z",
     "iopub.status.busy": "2024-11-06T12:15:13.539951Z",
     "iopub.status.idle": "2024-11-06T12:15:13.544522Z",
     "shell.execute_reply": "2024-11-06T12:15:13.544211Z",
     "shell.execute_reply.started": "2024-11-06T12:15:13.540098Z"
    }
   },
   "outputs": [
    {
     "name": "stdout",
     "output_type": "stream",
     "text": [
      "KongsbergAllFileHandler\n",
      "#######################\n",
      "-\n",
      "File infos \n",
      "-------------               \n",
      "- Number of loaded .all files: : 10       \n",
      "- Number of loaded .wcd files: : 8        \n",
      "- Total file size: :             26.58 MB \n",
      "\n",
      " Detected datagrams \n",
      "^^^^^^^^^^^^^^^^^^^^ \n",
      "- timestamp_first:  21/08/2012 17:09:42.36 \n",
      "- timestamp_last:   26/07/2024 15:02:51.40 \n",
      "- Total:            1484                   \n",
      "- Datagrams [0x30]: 4                      [PUIDOutput]\n",
      "- Datagrams [0x31]: 20                     [PUStatusOutput]\n",
      "- Datagrams [0x33]: 3                      [ExtraParameters]\n",
      "- Datagrams [0x41]: 51                     [AttitudeDatagram]\n",
      "- Datagrams [0x43]: 32                     [ClockDatagram]\n",
      "- Datagrams [0x47]: 1                      [SurfaceSoundSpeedDatagram]\n",
      "- Datagrams [0x49]: 18                     [InstallationParametersStart]\n",
      "- Datagrams [0x4e]: 166                    [RawRangeAndAngle]\n",
      "- Datagrams [0x4f]: 10                     [QualityFactorDatagram]\n",
      "- Datagrams [0x50]: 62                     [PositionDatagram]\n",
      "- Datagrams [0x52]: 41                     [RuntimeParameters]\n",
      "- Datagrams [0x55]: 18                     [SoundSpeedProfileDatagram]\n",
      "- Datagrams [0x58]: 186                    [XYZDatagram]\n",
      "- Datagrams [0x59]: 166                    [SeabedImageData]\n",
      "- Datagrams [0x68]: 18                     [DepthOrHeightDatagram]\n",
      "- Datagrams [0x6b]: 432                    [WatercolumnDatagram]\n",
      "- Datagrams [0x6e]: 256                    [NetworkAttitudeVelocityDatagram]\n",
      "\n",
      " Detected Pings \n",
      "---------------- \n",
      "\n",
      " Time info \n",
      "^^^^^^^^^^^             \n",
      "- Start time: 21/08/2012 17:09:42.36 \n",
      "- End time:   21/04/2023 17:48:17.14 \n",
      "- Sorted:     no                     \n",
      "\n",
      " Contained pings \n",
      "^^^^^^^^^^^^^^^^^ \n",
      "- Total:    174 \n",
      "- TRX-102:  66  \n",
      "- TRX-2004: 14  \n",
      "- TRX-2031: 14  \n",
      "- TRX-2086: 16  \n",
      "- TRX-210:  10  \n",
      "- TRX-2106: 16  \n",
      "- TRX-213:  17  \n",
      "- TRX-221:  10  \n",
      "- TRX-233:  11  \n"
     ]
    }
   ],
   "source": [
    "# Use the print function to get a summary of the dataset that can be accessed with the File Handler\n",
    "print(fileHandler)"
   ]
  },
  {
   "cell_type": "markdown",
   "metadata": {},
   "source": [
    "### 3. Access a group of pings with the File Handler"
   ]
  },
  {
   "cell_type": "code",
   "execution_count": 8,
   "metadata": {
    "execution": {
     "iopub.execute_input": "2024-11-06T12:15:13.544905Z",
     "iopub.status.busy": "2024-11-06T12:15:13.544804Z",
     "iopub.status.idle": "2024-11-06T12:15:13.552091Z",
     "shell.execute_reply": "2024-11-06T12:15:13.551811Z",
     "shell.execute_reply.started": "2024-11-06T12:15:13.544895Z"
    }
   },
   "outputs": [
    {
     "data": {
      "text/plain": [
       "themachinethatgoesping.echosounders_cppy.kongsbergall.filedatacontainers.KongsbergAllPingContainer"
      ]
     },
     "execution_count": 8,
     "metadata": {},
     "output_type": "execute_result"
    }
   ],
   "source": [
    "# Access a group of pings from the File Handler with the get_pings() method\n",
    "pingContainer = fileHandler.get_pings()\n",
    "\n",
    "# The output is a Ping Container object\n",
    "type(pingContainer)"
   ]
  },
  {
   "cell_type": "code",
   "execution_count": 9,
   "metadata": {
    "execution": {
     "iopub.execute_input": "2024-11-06T12:15:13.552486Z",
     "iopub.status.busy": "2024-11-06T12:15:13.552395Z",
     "iopub.status.idle": "2024-11-06T12:15:13.556967Z",
     "shell.execute_reply": "2024-11-06T12:15:13.556726Z",
     "shell.execute_reply.started": "2024-11-06T12:15:13.552477Z"
    }
   },
   "outputs": [
    {
     "name": "stdout",
     "output_type": "stream",
     "text": [
      "PingContainer\n",
      "#############\n",
      "-\n",
      "Time info \n",
      "------------            \n",
      "- Start time: 21/08/2012 17:09:42.36 \n",
      "- End time:   21/04/2023 17:48:17.14 \n",
      "- Sorted:     ascending              \n",
      "\n",
      " Contained pings \n",
      "----------------- \n",
      "- Total:    174 \n",
      "- TRX-102:  66  \n",
      "- TRX-2004: 14  \n",
      "- TRX-2031: 14  \n",
      "- TRX-2086: 16  \n",
      "- TRX-210:  10  \n",
      "- TRX-2106: 16  \n",
      "- TRX-213:  17  \n",
      "- TRX-221:  10  \n",
      "- TRX-233:  11  \n"
     ]
    }
   ],
   "source": [
    "# Use the print function to get a summary of the contents of a Ping Container\n",
    "print(pingContainer)"
   ]
  },
  {
   "cell_type": "markdown",
   "metadata": {},
   "source": [
    "### 4. Access an individual ping in the Ping Container\n"
   ]
  },
  {
   "cell_type": "code",
   "execution_count": 10,
   "metadata": {
    "execution": {
     "iopub.execute_input": "2024-11-06T12:15:13.557515Z",
     "iopub.status.busy": "2024-11-06T12:15:13.557251Z",
     "iopub.status.idle": "2024-11-06T12:15:13.562582Z",
     "shell.execute_reply": "2024-11-06T12:15:13.562268Z",
     "shell.execute_reply.started": "2024-11-06T12:15:13.557501Z"
    }
   },
   "outputs": [
    {
     "data": {
      "text/plain": [
       "themachinethatgoesping.echosounders_cppy.kongsbergall.filetypes.KongsbergAllPing"
      ]
     },
     "execution_count": 10,
     "metadata": {},
     "output_type": "execute_result"
    }
   ],
   "source": [
    "# Access an individual ping in a Ping Container simply by indexing\n",
    "ping = pingContainer[42]\n",
    "\n",
    "# The result is a Ping object\n",
    "type(ping)"
   ]
  },
  {
   "cell_type": "code",
   "execution_count": 11,
   "metadata": {
    "execution": {
     "iopub.execute_input": "2024-11-06T12:15:13.563160Z",
     "iopub.status.busy": "2024-11-06T12:15:13.562926Z",
     "iopub.status.idle": "2024-11-06T12:15:13.567920Z",
     "shell.execute_reply": "2024-11-06T12:15:13.567680Z",
     "shell.execute_reply.started": "2024-11-06T12:15:13.563144Z"
    }
   },
   "outputs": [
    {
     "name": "stdout",
     "output_type": "stream",
     "text": [
      "KongsbergAllPing\n",
      "################\n",
      "-\n",
      "Ping infos \n",
      "-------------                                                                                                                                                                                                                                                                                                                                                                                                               \n",
      "- Channel id:             TRX-102                                                                                                                                                                                                                                                                                                                                                                                                         \n",
      "- Time info:              13/02/2014 08:12:42.72                                                                                                                                                                                                                                                                                                                                                                                         \n",
      "                          [1392279162.718000]\n",
      "- Features:               .get_timestamp, .get_datetime, .get_channel_id, .get_sensor_configuration, .get_navigation_interpolator_latlon, .get_sensor_data_latlon, .get_geolocation                                                                                                                                                                                                                                                       \n",
      "- Feature groups:         .bottom, .watercolumn                                                                                                                                                                                                                                                                                                                                                                                           \n",
      "- Features(.bottom):      .bottom : .get_two_way_travel_times, .get_xyz, .get_tx_signal_parameters, .get_number_of_tx_sectors, .get_beam_crosstrack_angles                                                                                                                                                                                                                                                                                \n",
      "- Features(.watercolumn): .watercolumn : .get_amplitudes, .get_tx_signal_parameters, .get_number_of_tx_sectors, .get_beam_numbers_per_tx_sector, .get_beam_selection_all, .get_number_of_beams, .get_tx_sector_per_beam, .get_beam_crosstrack_angles, .get_bottom_range_samples, .get_amplitudes, .get_rp, .get_rv, .get_pp, .get_pv, .get_ap, .get_av, .get_power, .get_watercolumn_calibration, .get_multisectorwatercolumn_calibration\n",
      "                          [Not:.get_sp, .get_sv]\n",
      "\n",
      " Geolocation \n",
      "------------- \n",
      "- latitude:  38°24'4.2\"S   [ddd°mm',ss.s''N/S]\n",
      "- longitude: 142°29'1.7\"E  [ddd°mm',ss.s''E/W]\n",
      "- z:         0.600         [positive downwards, m]\n",
      "- yaw:       13.629        [90 ° at east]\n",
      "- pitch:     1.417         [° positive bow up]\n",
      "- roll:      -3.289        [° positive port up]\n"
     ]
    }
   ],
   "source": [
    "# Use the print function to get a summary of the contents of a Ping object\n",
    "print(ping)"
   ]
  },
  {
   "cell_type": "markdown",
   "metadata": {},
   "source": [
    "### 5. Access data in a ping"
   ]
  },
  {
   "cell_type": "code",
   "execution_count": 12,
   "metadata": {
    "execution": {
     "iopub.execute_input": "2024-11-06T12:15:13.569104Z",
     "iopub.status.busy": "2024-11-06T12:15:13.568925Z",
     "iopub.status.idle": "2024-11-06T12:15:13.573799Z",
     "shell.execute_reply": "2024-11-06T12:15:13.573560Z",
     "shell.execute_reply.started": "2024-11-06T12:15:13.569093Z"
    }
   },
   "outputs": [
    {
     "data": {
      "text/plain": [
       "themachinethatgoesping.navigation.datastructures.GeolocationLatLon"
      ]
     },
     "execution_count": 12,
     "metadata": {},
     "output_type": "execute_result"
    }
   ],
   "source": [
    "# A Ping object has 3 types of information: base, bottom, and water-column. Let's just talk here about the base information\n",
    "\n",
    "# An example of base information is location\n",
    "pingLocation = ping.get_geolocation()\n",
    "\n",
    "# see class of a \"Ping Location\" object\n",
    "type(pingLocation)"
   ]
  },
  {
   "cell_type": "code",
   "execution_count": 13,
   "metadata": {
    "execution": {
     "iopub.execute_input": "2024-11-06T12:15:13.574304Z",
     "iopub.status.busy": "2024-11-06T12:15:13.574159Z",
     "iopub.status.idle": "2024-11-06T12:15:13.578352Z",
     "shell.execute_reply": "2024-11-06T12:15:13.578100Z",
     "shell.execute_reply.started": "2024-11-06T12:15:13.574289Z"
    }
   },
   "outputs": [
    {
     "name": "stdout",
     "output_type": "stream",
     "text": [
      "GeolocationLatLon (struct)\n",
      "##########################\n",
      "- latitude:  38°24'4.2\"S   [ddd°mm',ss.s''N/S]\n",
      "- longitude: 142°29'1.7\"E  [ddd°mm',ss.s''E/W]\n",
      "- z:         0.600         [positive downwards, m]\n",
      "- yaw:       13.629        [90 ° at east]\n",
      "- pitch:     1.417         [° positive bow up]\n",
      "- roll:      -3.289        [° positive port up]\n"
     ]
    }
   ],
   "source": [
    "# Use the print function to get a summary of the contents of a Ping Location\n",
    "print(pingLocation)"
   ]
  },
  {
   "cell_type": "code",
   "execution_count": 14,
   "metadata": {
    "execution": {
     "iopub.execute_input": "2024-11-06T12:15:13.578970Z",
     "iopub.status.busy": "2024-11-06T12:15:13.578676Z",
     "iopub.status.idle": "2024-11-06T12:15:13.583121Z",
     "shell.execute_reply": "2024-11-06T12:15:13.582904Z",
     "shell.execute_reply.started": "2024-11-06T12:15:13.578951Z"
    }
   },
   "outputs": [
    {
     "name": "stdout",
     "output_type": "stream",
     "text": [
      "Example ping location - Latitude: -38.40116296430116, Longitude: 142.48379345259943\n"
     ]
    }
   ],
   "source": [
    "# Data in a Ping Location are simple attributes\n",
    "print(f\"Example ping location - Latitude: {pingLocation.latitude}, Longitude: {pingLocation.longitude}\")"
   ]
  },
  {
   "cell_type": "markdown",
   "metadata": {},
   "source": [
    "### 6. Conclusion\n",
    "Putting it all together with an example. If you want to extract latitudes and longitudes from all pings in the entire dataset"
   ]
  },
  {
   "cell_type": "code",
   "execution_count": 15,
   "metadata": {
    "execution": {
     "iopub.execute_input": "2024-11-06T12:15:13.583699Z",
     "iopub.status.busy": "2024-11-06T12:15:13.583436Z",
     "iopub.status.idle": "2024-11-06T12:15:13.655381Z",
     "shell.execute_reply": "2024-11-06T12:15:13.655044Z",
     "shell.execute_reply.started": "2024-11-06T12:15:13.583683Z"
    }
   },
   "outputs": [
    {
     "name": "stdout",
     "output_type": "stream",
     "text": [
      "Found 18 files\n",
      "indexing files ⠐ 100% [00m:00s<00m:00s] [..4033532462129271.wcd (1/18)]                               \n",
      "indexing files ⠠ 100% [00m:00s<00m:00s] [..0211369500593285.wcd (18/18)]                                \n",
      "indexing files ⢀ 100% [00m:00s<00m:00s] [Found: 1484 datagrams in 18 files (26MB)]                                          \n",
      "Initializing ping interface ⢀ 90% [00m:00s<00m:00s] [Done]                                              \n"
     ]
    },
    {
     "name": "stderr",
     "output_type": "stream",
     "text": [
      "WARNING: get_depth_sensor_offsets: Only DSH (Depth (pressure) sensor heave) == NI is supported yet, but DSH is IN\n",
      "WARNING: get_depth_sensor_offsets: Only DSH (Depth (pressure) sensor heave) == NI is supported yet, but DSH is IN\n"
     ]
    },
    {
     "data": {
      "text/plain": [
       "[<matplotlib.lines.Line2D at 0x743940d12210>]"
      ]
     },
     "execution_count": 15,
     "metadata": {},
     "output_type": "execute_result"
    },
    {
     "data": {
      "application/vnd.jupyter.widget-view+json": {
       "model_id": "43bb39627d86451db8d6c0ca616257c6",
       "version_major": 2,
       "version_minor": 0
      },
      "image/png": "[encoded data removed]",
      "text/html": [
       "\n",
       "            <div style=\"display: inline-block;\">\n",
       "                <div class=\"jupyter-widgets widget-label\" style=\"text-align: center;\">\n",
       "                    Figure\n",
       "                </div>\n",
       "                <img src='data:image/png;base64,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' width=640.0/>\n",
       "            </div>\n",
       "        "
      ],
      "text/plain": [
       "Canvas(toolbar=Toolbar(toolitems=[('Home', 'Reset original view', 'home', 'home'), ('Back', 'Back to previous …"
      ]
     },
     "metadata": {},
     "output_type": "display_data"
    }
   ],
   "source": [
    "# set folders of data\n",
    "folder = '../unittest_data'\n",
    "\n",
    "# list files in folder\n",
    "files = theping.echosounders.index_functions.find_files(folder, [\".all\",\"wcd\"]) # find all Kongsberg files in the list of folders\n",
    "\n",
    "# create a ping container for all pings in the dataset, through a File Handler\n",
    "fileHandler = theping.echosounders.kongsbergall.KongsbergAllFileHandler(files)\n",
    "pingContainer = fileHandler.get_pings()\n",
    "\n",
    "# loop over all pings in the pingContainer and extract latitude and longitude of each ping\n",
    "lat, lon = [], []\n",
    "for ping in pingContainer:\n",
    "    pingLocation = ping.get_geolocation()\n",
    "    lat.append(pingLocation.latitude) \n",
    "    lon.append(pingLocation.longitude)\n",
    "\n",
    "# plot coordinates of all pings in dataset\n",
    "plt.figure()\n",
    "plt.plot(lon, lat, '.')"
   ]
  },
  {
   "cell_type": "code",
   "execution_count": null,
   "metadata": {},
   "outputs": [],
   "source": []
  }
 ],
 "metadata": {
  "kernelspec": {
   "display_name": "Python 3 (ipykernel)",
   "language": "python",
   "name": "python3"
  },
  "language_info": {
   "codemirror_mode": {
    "name": "ipython",
    "version": 3
   },
   "file_extension": ".py",
   "mimetype": "text/x-python",
   "name": "python",
   "nbconvert_exporter": "python",
   "pygments_lexer": "ipython3",
   "version": "3.12.7"
  },
  "widgets": {
   "application/vnd.jupyter.widget-state+json": {
    "state": {
     "0ace633012fe4204a3cfe781d62c9f98": {
      "model_module": "@jupyter-widgets/base",
      "model_module_version": "1.2.0",
      "model_name": "LayoutModel",
      "state": {}
     },
     "13a4e6e73c1b4b9184d545464097b247": {
      "model_module": "@jupyter-widgets/controls",
      "model_module_version": "1.5.0",
      "model_name": "HBoxModel",
      "state": {
       "children": [
        "IPY_MODEL_813aa48283394cccb382bd3bb4788b50",
        "IPY_MODEL_6c8d149c0c2b4304aa3e29b8ad084268",
        "IPY_MODEL_fd3ddd48b4ed405ead44b3b82f6e22d7"
       ],
       "layout": "IPY_MODEL_62475d886135466ea8f479e6350f38cd"
      }
     },
     "14bd48f7dab44f98ab75949f862fe86c": {
      "model_module": "@jupyter-widgets/controls",
      "model_module_version": "1.5.0",
      "model_name": "ProgressStyleModel",
      "state": {
       "description_width": ""
      }
     },
     "16623a3295fd4017867d117f3220d06a": {
      "model_module": "@jupyter-widgets/base",
      "model_module_version": "1.2.0",
      "model_name": "LayoutModel",
      "state": {}
     },
     "18d95032dd8448f48b141586c9c0fb67": {
      "model_module": "jupyter-matplotlib",
      "model_module_version": "^0.11",
      "model_name": "ToolbarModel",
      "state": {
       "_model_module_version": "^0.11",
       "_view_module_version": "^0.11",
       "collapsed": true,
       "layout": "IPY_MODEL_99f53ac3fac04892a903b80962541298",
       "orientation": "vertical",
       "toolitems": [
        [
         "Home",
         "Reset original view",
         "home",
         "home"
        ],
        [
         "Back",
         "Back to previous view",
         "arrow-left",
         "back"
        ],
        [
         "Forward",
         "Forward to next view",
         "arrow-right",
         "forward"
        ],
        [
         "Pan",
         "Left button pans, Right button zooms\nx/y fixes axis, CTRL fixes aspect",
         "arrows",
         "pan"
        ],
        [
         "Zoom",
         "Zoom to rectangle\nx/y fixes axis",
         "square-o",
         "zoom"
        ],
        [
         "Download",
         "Download plot",
         "floppy-o",
         "save_figure"
        ]
       ]
      }
     },
     "215c723d847c4efea9f8f0490633dda4": {
      "model_module": "@jupyter-widgets/controls",
      "model_module_version": "1.5.0",
      "model_name": "DescriptionStyleModel",
      "state": {
       "description_width": ""
      }
     },
     "2f87ffecc97b459eb895a1fece01675c": {
      "model_module": "@jupyter-widgets/base",
      "model_module_version": "1.2.0",
      "model_name": "LayoutModel",
      "state": {}
     },
     "3098a35ae14f4f5f9611524f2d259b15": {
      "model_module": "@jupyter-widgets/base",
      "model_module_version": "1.2.0",
      "model_name": "LayoutModel",
      "state": {}
     },
     "3ed687e3f0a6486d8cc03ca43ba46cb9": {
      "model_module": "@jupyter-widgets/controls",
      "model_module_version": "1.5.0",
      "model_name": "FloatProgressModel",
      "state": {
       "bar_style": "success",
       "layout": "IPY_MODEL_0ace633012fe4204a3cfe781d62c9f98",
       "max": 18,
       "style": "IPY_MODEL_ee684aa2076d431cb49a1b770bee8f00",
       "value": 18
      }
     },
     "43bb39627d86451db8d6c0ca616257c6": {
      "model_module": "jupyter-matplotlib",
      "model_module_version": "^0.11",
      "model_name": "MPLCanvasModel",
      "state": {
       "_data_url": "data:image/png;base64,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",
       "_figure_label": "Figure 1",
       "_model_module_version": "^0.11",
       "_size": [
        640,
        480
       ],
       "_view_module_version": "^0.11",
       "layout": "IPY_MODEL_3098a35ae14f4f5f9611524f2d259b15",
       "toolbar": "IPY_MODEL_18d95032dd8448f48b141586c9c0fb67",
       "toolbar_position": "left"
      }
     },
     "62475d886135466ea8f479e6350f38cd": {
      "model_module": "@jupyter-widgets/base",
      "model_module_version": "1.2.0",
      "model_name": "LayoutModel",
      "state": {}
     },
     "6c8d149c0c2b4304aa3e29b8ad084268": {
      "model_module": "@jupyter-widgets/controls",
      "model_module_version": "1.5.0",
      "model_name": "FloatProgressModel",
      "state": {
       "bar_style": "success",
       "layout": "IPY_MODEL_a42fae60bec74bf296f9735e39f68be7",
       "max": 18,
       "style": "IPY_MODEL_14bd48f7dab44f98ab75949f862fe86c",
       "value": 18
      }
     },
     "7b3c7c7bf0f24f3da8706b1653c6f886": {
      "model_module": "@jupyter-widgets/controls",
      "model_module_version": "1.5.0",
      "model_name": "DescriptionStyleModel",
      "state": {
       "description_width": ""
      }
     },
     "80e82a6a09464075bb8ca8260bcf91f9": {
      "model_module": "@jupyter-widgets/base",
      "model_module_version": "1.2.0",
      "model_name": "LayoutModel",
      "state": {}
     },
     "813aa48283394cccb382bd3bb4788b50": {
      "model_module": "@jupyter-widgets/controls",
      "model_module_version": "1.5.0",
      "model_name": "HTMLModel",
      "state": {
       "layout": "IPY_MODEL_d469cf15a72747c68e02ed466a6c9992",
       "style": "IPY_MODEL_d6253e2af8a54d98b545e3e22f89e1bf",
       "value": "removing duplicates: 100%"
      }
     },
     "99f53ac3fac04892a903b80962541298": {
      "model_module": "@jupyter-widgets/base",
      "model_module_version": "1.2.0",
      "model_name": "LayoutModel",
      "state": {}
     },
     "9a4c8c7eb7ac4ce1a70ee746686d1686": {
      "model_module": "@jupyter-widgets/base",
      "model_module_version": "1.2.0",
      "model_name": "LayoutModel",
      "state": {}
     },
     "a42fae60bec74bf296f9735e39f68be7": {
      "model_module": "@jupyter-widgets/base",
      "model_module_version": "1.2.0",
      "model_name": "LayoutModel",
      "state": {}
     },
     "c1b60e3670084bd09f93395ad6b9dfb7": {
      "model_module": "@jupyter-widgets/controls",
      "model_module_version": "1.5.0",
      "model_name": "HTMLModel",
      "state": {
       "layout": "IPY_MODEL_16623a3295fd4017867d117f3220d06a",
       "style": "IPY_MODEL_dc68e85a0bc348f7abee1893185cc9bf",
       "value": "removing duplicates: 100%"
      }
     },
     "d469cf15a72747c68e02ed466a6c9992": {
      "model_module": "@jupyter-widgets/base",
      "model_module_version": "1.2.0",
      "model_name": "LayoutModel",
      "state": {}
     },
     "d6253e2af8a54d98b545e3e22f89e1bf": {
      "model_module": "@jupyter-widgets/controls",
      "model_module_version": "1.5.0",
      "model_name": "DescriptionStyleModel",
      "state": {
       "description_width": ""
      }
     },
     "d770e29124744438b5e6ae1bf6619bc7": {
      "model_module": "@jupyter-widgets/controls",
      "model_module_version": "1.5.0",
      "model_name": "HTMLModel",
      "state": {
       "layout": "IPY_MODEL_9a4c8c7eb7ac4ce1a70ee746686d1686",
       "style": "IPY_MODEL_7b3c7c7bf0f24f3da8706b1653c6f886",
       "value": " 18/18 [00:00&lt;00:00, 7953.80it/s]"
      }
     },
     "dc68e85a0bc348f7abee1893185cc9bf": {
      "model_module": "@jupyter-widgets/controls",
      "model_module_version": "1.5.0",
      "model_name": "DescriptionStyleModel",
      "state": {
       "description_width": ""
      }
     },
     "ee684aa2076d431cb49a1b770bee8f00": {
      "model_module": "@jupyter-widgets/controls",
      "model_module_version": "1.5.0",
      "model_name": "ProgressStyleModel",
      "state": {
       "description_width": ""
      }
     },
     "f4808640b7c54f4cb7acead73eb800c7": {
      "model_module": "@jupyter-widgets/controls",
      "model_module_version": "1.5.0",
      "model_name": "HBoxModel",
      "state": {
       "children": [
        "IPY_MODEL_c1b60e3670084bd09f93395ad6b9dfb7",
        "IPY_MODEL_3ed687e3f0a6486d8cc03ca43ba46cb9",
        "IPY_MODEL_d770e29124744438b5e6ae1bf6619bc7"
       ],
       "layout": "IPY_MODEL_80e82a6a09464075bb8ca8260bcf91f9"
      }
     },
     "fd3ddd48b4ed405ead44b3b82f6e22d7": {
      "model_module": "@jupyter-widgets/controls",
      "model_module_version": "1.5.0",
      "model_name": "HTMLModel",
      "state": {
       "layout": "IPY_MODEL_2f87ffecc97b459eb895a1fece01675c",
       "style": "IPY_MODEL_215c723d847c4efea9f8f0490633dda4",
       "value": " 18/18 [00:00&lt;00:00, 8141.64it/s]"
      }
     }
    },
    "version_major": 2,
    "version_minor": 0
   }
  }
 },
 "nbformat": 4,
 "nbformat_minor": 4
}
